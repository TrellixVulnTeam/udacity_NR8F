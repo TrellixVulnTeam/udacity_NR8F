{
 "cells": [
  {
   "cell_type": "markdown",
   "metadata": {},
   "source": [
    "# Data Wrangling with Spark SQL Quiz\n",
    "\n",
    "This quiz uses the same dataset and most of the same questions from the earlier \"Quiz - Data Wrangling with Data Frames Jupyter Notebook.\" For this quiz, however, use Spark SQL instead of Spark Data Frames."
   ]
  },
  {
   "cell_type": "code",
   "execution_count": 1,
   "metadata": {},
   "outputs": [],
   "source": [
    "from pyspark.sql import SparkSession\n",
    "from pyspark.sql.functions import udf\n",
    "from pyspark.sql.types import StringType\n",
    "from pyspark.sql.types import IntegerType\n",
    "from pyspark.sql.functions import desc\n",
    "from pyspark.sql.functions import asc\n",
    "from pyspark.sql.functions import sum as Fsum\n",
    "\n",
    "import datetime\n",
    "\n",
    "import numpy as np\n",
    "import pandas as pd\n",
    "%matplotlib inline\n",
    "import matplotlib.pyplot as plt\n",
    "\n",
    "# TODOS: \n",
    "# 1) import any other libraries you might need\n",
    "# 2) instantiate a Spark session \n",
    "# 3) read in the data set located at the path \"data/sparkify_log_small.json\"\n",
    "# 4) create a view to use with your SQL queries\n",
    "# 5) write code to answer the quiz questions "
   ]
  },
  {
   "cell_type": "code",
   "execution_count": 2,
   "metadata": {},
   "outputs": [],
   "source": [
    "spark = SparkSession \\\n",
    "    .builder \\\n",
    "    .appName(\"Data wrangling with Spark SQL\") \\\n",
    "    .getOrCreate()"
   ]
  },
  {
   "cell_type": "code",
   "execution_count": 3,
   "metadata": {},
   "outputs": [],
   "source": [
    "path = \"data/sparkify_log_small.json\"\n",
    "user_log = spark.read.json(path)"
   ]
  },
  {
   "cell_type": "code",
   "execution_count": 4,
   "metadata": {},
   "outputs": [
    {
     "data": {
      "text/plain": [
       "[Row(artist='Showaddywaddy', auth='Logged In', firstName='Kenneth', gender='M', itemInSession=112, lastName='Matthews', length=232.93342, level='paid', location='Charlotte-Concord-Gastonia, NC-SC', method='PUT', page='NextSong', registration=1509380319284, sessionId=5132, song='Christmas Tears Will Fall', status=200, ts=1513720872284, userAgent='\"Mozilla/5.0 (Windows NT 6.1) AppleWebKit/537.36 (KHTML, like Gecko) Chrome/36.0.1985.125 Safari/537.36\"', userId='1046')]"
      ]
     },
     "execution_count": 4,
     "metadata": {},
     "output_type": "execute_result"
    }
   ],
   "source": [
    "user_log.take(1)"
   ]
  },
  {
   "cell_type": "code",
   "execution_count": 5,
   "metadata": {},
   "outputs": [
    {
     "name": "stdout",
     "output_type": "stream",
     "text": [
      "root\n",
      " |-- artist: string (nullable = true)\n",
      " |-- auth: string (nullable = true)\n",
      " |-- firstName: string (nullable = true)\n",
      " |-- gender: string (nullable = true)\n",
      " |-- itemInSession: long (nullable = true)\n",
      " |-- lastName: string (nullable = true)\n",
      " |-- length: double (nullable = true)\n",
      " |-- level: string (nullable = true)\n",
      " |-- location: string (nullable = true)\n",
      " |-- method: string (nullable = true)\n",
      " |-- page: string (nullable = true)\n",
      " |-- registration: long (nullable = true)\n",
      " |-- sessionId: long (nullable = true)\n",
      " |-- song: string (nullable = true)\n",
      " |-- status: long (nullable = true)\n",
      " |-- ts: long (nullable = true)\n",
      " |-- userAgent: string (nullable = true)\n",
      " |-- userId: string (nullable = true)\n",
      "\n"
     ]
    }
   ],
   "source": [
    "user_log.printSchema()"
   ]
  },
  {
   "cell_type": "code",
   "execution_count": 6,
   "metadata": {},
   "outputs": [],
   "source": [
    "user_log.createOrReplaceTempView(\"user_log_table\")"
   ]
  },
  {
   "cell_type": "markdown",
   "metadata": {},
   "source": [
    "# Question 1\n",
    "\n",
    "Which page did user id \"\"(empty string) NOT visit?"
   ]
  },
  {
   "cell_type": "code",
   "execution_count": 7,
   "metadata": {},
   "outputs": [
    {
     "name": "stdout",
     "output_type": "stream",
     "text": [
      "+----------------+\n",
      "|            page|\n",
      "+----------------+\n",
      "|Submit Downgrade|\n",
      "|       Downgrade|\n",
      "|          Logout|\n",
      "|   Save Settings|\n",
      "|        Settings|\n",
      "|        NextSong|\n",
      "|         Upgrade|\n",
      "|           Error|\n",
      "|  Submit Upgrade|\n",
      "+----------------+\n",
      "\n"
     ]
    }
   ],
   "source": [
    "# TODO: write your code to answer question 1\n",
    "spark.sql(\"SELECT distinct page from user_log_table where page not in (SELECT page from user_log_table where userId == '')\").show()"
   ]
  },
  {
   "cell_type": "markdown",
   "metadata": {},
   "source": [
    "# Question 2 - Reflect\n",
    "\n",
    "Why might you prefer to use SQL over data frames? Why might you prefer data frames over SQL?"
   ]
  },
  {
   "cell_type": "markdown",
   "metadata": {},
   "source": [
    "# Question 3\n",
    "\n",
    "How many female users do we have in the data set?"
   ]
  },
  {
   "cell_type": "code",
   "execution_count": 8,
   "metadata": {},
   "outputs": [
    {
     "name": "stdout",
     "output_type": "stream",
     "text": [
      "+----------------------+\n",
      "|count(DISTINCT userId)|\n",
      "+----------------------+\n",
      "|                   462|\n",
      "+----------------------+\n",
      "\n"
     ]
    }
   ],
   "source": [
    "# TODO: write your code to answer question 3\n",
    "spark.sql(\"SELECT count(distinct userId) from user_log_table where gender = 'F'\").show()"
   ]
  },
  {
   "cell_type": "markdown",
   "metadata": {},
   "source": [
    "# Question 4\n",
    "\n",
    "How many songs were played from the most played artist?"
   ]
  },
  {
   "cell_type": "code",
   "execution_count": 9,
   "metadata": {},
   "outputs": [
    {
     "name": "stdout",
     "output_type": "stream",
     "text": [
      "+--------+---+\n",
      "|  artist|  n|\n",
      "+--------+---+\n",
      "|Coldplay| 83|\n",
      "+--------+---+\n",
      "\n"
     ]
    }
   ],
   "source": [
    "# TODO: write your code to answer question 4\n",
    "spark.sql(\"SELECT distinct artist, count(artist) as n from user_log_table group by 1 order by 2 desc limit 1\").show()\n"
   ]
  },
  {
   "cell_type": "markdown",
   "metadata": {},
   "source": [
    "# Question 5 (challenge)\n",
    "\n",
    "How many songs do users listen to on average between visiting our home page? Please round your answer to the closest integer."
   ]
  },
  {
   "cell_type": "code",
   "execution_count": 10,
   "metadata": {},
   "outputs": [],
   "source": [
    "# TODO: write your code to answer question 5\n",
    "is_home = spark.sql(\"\"\"\n",
    "          SELECT distinct userId, page, ts,\n",
    "          case when page == 'Home' then 1 else 0 end as homevisit\n",
    "          from user_log_table\n",
    "          where page in ('Home', 'NextSong')\n",
    "          \"\"\")  # do not add show here!\n"
   ]
  },
  {
   "cell_type": "code",
   "execution_count": 11,
   "metadata": {},
   "outputs": [
    {
     "name": "stdout",
     "output_type": "stream",
     "text": [
      "+------+--------+-------------+---------+------+\n",
      "|userId|    page|           ts|homevisit|period|\n",
      "+------+--------+-------------+---------+------+\n",
      "|  1436|NextSong|1513783259284|        0|     0|\n",
      "|  1436|NextSong|1513782858284|        0|     0|\n",
      "|  2088|    Home|1513805972284|        1|     1|\n",
      "|  2088|NextSong|1513805859284|        0|     1|\n",
      "|  2088|NextSong|1513805494284|        0|     1|\n",
      "|  2088|NextSong|1513805065284|        0|     1|\n",
      "|  2088|NextSong|1513804786284|        0|     1|\n",
      "|  2088|NextSong|1513804555284|        0|     1|\n",
      "|  2088|NextSong|1513804196284|        0|     1|\n",
      "|  2088|NextSong|1513803967284|        0|     1|\n",
      "|  2088|NextSong|1513803820284|        0|     1|\n",
      "|  2088|NextSong|1513803651284|        0|     1|\n",
      "|  2088|NextSong|1513803413284|        0|     1|\n",
      "|  2088|NextSong|1513803254284|        0|     1|\n",
      "|  2088|NextSong|1513803057284|        0|     1|\n",
      "|  2088|NextSong|1513802824284|        0|     1|\n",
      "|  2162|NextSong|1513781246284|        0|     0|\n",
      "|  2162|NextSong|1513781065284|        0|     0|\n",
      "|  2162|NextSong|1513780860284|        0|     0|\n",
      "|  2162|NextSong|1513780569284|        0|     0|\n",
      "+------+--------+-------------+---------+------+\n",
      "only showing top 20 rows\n",
      "\n"
     ]
    }
   ],
   "source": [
    "is_home.createOrReplaceTempView(\"is_home_table\")\n",
    "\n",
    "# find the cumulative sum over the is_home column\n",
    "# The frame, ROWS BETWEEN UNBOUNDED PRECEDING AND CURRENT ROW, means that the window consists of the first row of the partition and all the rows up to the current row. \n",
    "cumsum = spark.sql(\"\"\"\n",
    "                   SELECT *, \n",
    "                   sum(homevisit) over ( \\\n",
    "                   partition by userId order by ts desc ROWS BETWEEN UNBOUNDED PRECEDING AND CURRENT ROW) as period \\\n",
    "                   from is_home_table\n",
    "                   \"\"\")\n",
    "cumsum.show()"
   ]
  },
  {
   "cell_type": "code",
   "execution_count": 12,
   "metadata": {},
   "outputs": [
    {
     "name": "stdout",
     "output_type": "stream",
     "text": [
      "+------+------+--------+-------------+\n",
      "|userId|period|    page|count_results|\n",
      "+------+------+--------+-------------+\n",
      "|    10|     0|NextSong|            2|\n",
      "|   100|     1|NextSong|            1|\n",
      "|   100|     2|NextSong|            2|\n",
      "|   100|     3|NextSong|            2|\n",
      "|  1000|     0|NextSong|            1|\n",
      "|  1003|     1|NextSong|            1|\n",
      "|  1005|     0|NextSong|            1|\n",
      "|  1006|     0|NextSong|            3|\n",
      "|  1017|     0|NextSong|            1|\n",
      "|  1017|     1|NextSong|            3|\n",
      "|  1017|     2|NextSong|            6|\n",
      "|  1019|     0|NextSong|           16|\n",
      "|  1019|     2|NextSong|            3|\n",
      "|  1019|     3|NextSong|            3|\n",
      "|  1020|     0|NextSong|            4|\n",
      "|  1022|     0|NextSong|            2|\n",
      "|  1025|     1|NextSong|            4|\n",
      "|  1030|     0|NextSong|            1|\n",
      "|  1035|     0|NextSong|           31|\n",
      "|  1035|     1|NextSong|           40|\n",
      "+------+------+--------+-------------+\n",
      "only showing top 20 rows\n",
      "\n"
     ]
    }
   ],
   "source": [
    "# find the total count for NextSong between periods\n",
    "cumsum.createOrReplaceTempView(\"period_table\")\n",
    "\n",
    "total_songs = spark.sql(\"SELECT userId, period, page, COUNT(*) AS count_results FROM period_table \\\n",
    "GROUP BY userId, period, page HAVING page = 'NextSong' order by 1,2\")\n",
    "\n",
    "total_songs.show()"
   ]
  },
  {
   "cell_type": "code",
   "execution_count": 13,
   "metadata": {},
   "outputs": [
    {
     "name": "stdout",
     "output_type": "stream",
     "text": [
      "+------------------+\n",
      "|avg(count_results)|\n",
      "+------------------+\n",
      "| 6.938487115544472|\n",
      "+------------------+\n",
      "\n"
     ]
    }
   ],
   "source": [
    "# average number of songs \n",
    "total_songs.createOrReplaceTempView(\"total_songs_table\")\n",
    "\n",
    "spark.sql(\"SELECT avg(count_results) FROM total_songs_table\").show()"
   ]
  }
 ],
 "metadata": {
  "kernelspec": {
   "display_name": "Python 3",
   "language": "python",
   "name": "python3"
  },
  "language_info": {
   "codemirror_mode": {
    "name": "ipython",
    "version": 3
   },
   "file_extension": ".py",
   "mimetype": "text/x-python",
   "name": "python",
   "nbconvert_exporter": "python",
   "pygments_lexer": "ipython3",
   "version": "3.7.3"
  }
 },
 "nbformat": 4,
 "nbformat_minor": 2
}
