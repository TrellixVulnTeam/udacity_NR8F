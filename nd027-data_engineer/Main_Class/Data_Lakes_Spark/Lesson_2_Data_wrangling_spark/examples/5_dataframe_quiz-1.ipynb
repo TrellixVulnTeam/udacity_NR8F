{
 "cells": [
  {
   "cell_type": "markdown",
   "metadata": {},
   "source": [
    "# Data Wrangling with DataFrames Coding Quiz\n",
    "\n",
    "Use this Jupyter notebook to find the answers to the quiz in the previous section. There is an answer key in the next part of the lesson."
   ]
  },
  {
   "cell_type": "code",
   "execution_count": 1,
   "metadata": {},
   "outputs": [],
   "source": [
    "from pyspark.sql import SparkSession\n",
    "from pyspark.sql.functions import udf\n",
    "from pyspark.sql.types import StringType\n",
    "from pyspark.sql.types import IntegerType\n",
    "from pyspark.sql.functions import isnan, count, when, col, desc, udf, col, sort_array, asc, avg\n",
    "from pyspark.sql.window import Window\n",
    "from pyspark.sql.functions import sum as Fsum\n",
    "\n",
    "import datetime\n",
    "\n",
    "import numpy as np\n",
    "import pandas as pd\n",
    "%matplotlib inline\n",
    "import matplotlib.pyplot as plt\n",
    "\n",
    "# TODOS: \n",
    "# 1) import any other libraries you might need\n",
    "# 2) instantiate a Spark session \n",
    "# 3) read in the data set located at the path \"data/sparkify_log_small.json\"\n",
    "# 4) write code to answer the quiz questions "
   ]
  },
  {
   "cell_type": "code",
   "execution_count": 2,
   "metadata": {},
   "outputs": [],
   "source": [
    "spark = SparkSession \\\n",
    "    .builder \\\n",
    "    .appName(\"Wrangling Data\") \\\n",
    "    .getOrCreate()"
   ]
  },
  {
   "cell_type": "code",
   "execution_count": 3,
   "metadata": {},
   "outputs": [],
   "source": [
    "path = \"data/sparkify_log_small.json\"\n",
    "user_log = spark.read.json(path)"
   ]
  },
  {
   "cell_type": "code",
   "execution_count": 4,
   "metadata": {},
   "outputs": [
    {
     "data": {
      "text/plain": [
       "[Row(artist='Showaddywaddy', auth='Logged In', firstName='Kenneth', gender='M', itemInSession=112, lastName='Matthews', length=232.93342, level='paid', location='Charlotte-Concord-Gastonia, NC-SC', method='PUT', page='NextSong', registration=1509380319284, sessionId=5132, song='Christmas Tears Will Fall', status=200, ts=1513720872284, userAgent='\"Mozilla/5.0 (Windows NT 6.1) AppleWebKit/537.36 (KHTML, like Gecko) Chrome/36.0.1985.125 Safari/537.36\"', userId='1046'),\n",
       " Row(artist='Lily Allen', auth='Logged In', firstName='Elizabeth', gender='F', itemInSession=7, lastName='Chase', length=195.23873, level='free', location='Shreveport-Bossier City, LA', method='PUT', page='NextSong', registration=1512718541284, sessionId=5027, song='Cheryl Tweedy', status=200, ts=1513720878284, userAgent='\"Mozilla/5.0 (Windows NT 6.1) AppleWebKit/537.36 (KHTML, like Gecko) Chrome/36.0.1985.143 Safari/537.36\"', userId='1000'),\n",
       " Row(artist='Cobra Starship Featuring Leighton Meester', auth='Logged In', firstName='Vera', gender='F', itemInSession=6, lastName='Blackwell', length=196.20526, level='paid', location='Racine, WI', method='PUT', page='NextSong', registration=1499855749284, sessionId=5516, song='Good Girls Go Bad (Feat.Leighton Meester) (Album Version)', status=200, ts=1513720881284, userAgent='\"Mozilla/5.0 (Macintosh; Intel Mac OS X 10_9_4) AppleWebKit/537.78.2 (KHTML, like Gecko) Version/7.0.6 Safari/537.78.2\"', userId='2219'),\n",
       " Row(artist='Alex Smoke', auth='Logged In', firstName='Sophee', gender='F', itemInSession=8, lastName='Barker', length=405.99465, level='paid', location='San Luis Obispo-Paso Robles-Arroyo Grande, CA', method='PUT', page='NextSong', registration=1513009647284, sessionId=2372, song=\"Don't See The Point\", status=200, ts=1513720905284, userAgent='\"Mozilla/5.0 (Windows NT 6.1; WOW64) AppleWebKit/537.36 (KHTML, like Gecko) Chrome/36.0.1985.143 Safari/537.36\"', userId='2373'),\n",
       " Row(artist=None, auth='Logged In', firstName='Jordyn', gender='F', itemInSession=0, lastName='Jones', length=None, level='free', location='Syracuse, NY', method='GET', page='Home', registration=1513648531284, sessionId=1746, song=None, status=200, ts=1513720913284, userAgent='\"Mozilla/5.0 (Macintosh; Intel Mac OS X 10_9_4) AppleWebKit/537.36 (KHTML, like Gecko) Chrome/37.0.2062.94 Safari/537.36\"', userId='1747')]"
      ]
     },
     "execution_count": 4,
     "metadata": {},
     "output_type": "execute_result"
    }
   ],
   "source": [
    "user_log.take(5)"
   ]
  },
  {
   "cell_type": "code",
   "execution_count": 5,
   "metadata": {},
   "outputs": [
    {
     "name": "stdout",
     "output_type": "stream",
     "text": [
      "root\n",
      " |-- artist: string (nullable = true)\n",
      " |-- auth: string (nullable = true)\n",
      " |-- firstName: string (nullable = true)\n",
      " |-- gender: string (nullable = true)\n",
      " |-- itemInSession: long (nullable = true)\n",
      " |-- lastName: string (nullable = true)\n",
      " |-- length: double (nullable = true)\n",
      " |-- level: string (nullable = true)\n",
      " |-- location: string (nullable = true)\n",
      " |-- method: string (nullable = true)\n",
      " |-- page: string (nullable = true)\n",
      " |-- registration: long (nullable = true)\n",
      " |-- sessionId: long (nullable = true)\n",
      " |-- song: string (nullable = true)\n",
      " |-- status: long (nullable = true)\n",
      " |-- ts: long (nullable = true)\n",
      " |-- userAgent: string (nullable = true)\n",
      " |-- userId: string (nullable = true)\n",
      "\n"
     ]
    }
   ],
   "source": [
    "user_log.printSchema()"
   ]
  },
  {
   "cell_type": "code",
   "execution_count": 6,
   "metadata": {},
   "outputs": [
    {
     "data": {
      "text/plain": [
       "10000"
      ]
     },
     "execution_count": 6,
     "metadata": {},
     "output_type": "execute_result"
    }
   ],
   "source": [
    "user_log.count()"
   ]
  },
  {
   "cell_type": "markdown",
   "metadata": {},
   "source": [
    "# Question 1\n",
    "\n",
    "Which page did user id \"\" (empty string) NOT visit?"
   ]
  },
  {
   "cell_type": "code",
   "execution_count": 7,
   "metadata": {},
   "outputs": [
    {
     "name": "stdout",
     "output_type": "stream",
     "text": [
      "+----------------+\n",
      "|            page|\n",
      "+----------------+\n",
      "|           About|\n",
      "|       Downgrade|\n",
      "|           Error|\n",
      "|            Help|\n",
      "|            Home|\n",
      "|           Login|\n",
      "|          Logout|\n",
      "|        NextSong|\n",
      "|   Save Settings|\n",
      "|        Settings|\n",
      "|Submit Downgrade|\n",
      "|  Submit Upgrade|\n",
      "|         Upgrade|\n",
      "+----------------+\n",
      "\n"
     ]
    }
   ],
   "source": [
    "# TODO: write your code to answer question 1\n",
    "user_log.select(\"page\").dropDuplicates().sort(\"page\").show()"
   ]
  },
  {
   "cell_type": "code",
   "execution_count": 8,
   "metadata": {},
   "outputs": [
    {
     "name": "stdout",
     "output_type": "stream",
     "text": [
      "+-----+\n",
      "| page|\n",
      "+-----+\n",
      "| Home|\n",
      "|About|\n",
      "|Login|\n",
      "| Help|\n",
      "+-----+\n",
      "\n"
     ]
    }
   ],
   "source": [
    "user_log.select(\"page\").where(user_log.userId == \"\").dropDuplicates().show()"
   ]
  },
  {
   "cell_type": "code",
   "execution_count": 9,
   "metadata": {},
   "outputs": [
    {
     "name": "stdout",
     "output_type": "stream",
     "text": [
      "Save Settings\n",
      "Upgrade\n",
      "Error\n",
      "Settings\n",
      "NextSong\n",
      "Downgrade\n",
      "Logout\n",
      "Submit Downgrade\n",
      "Submit Upgrade\n"
     ]
    }
   ],
   "source": [
    "# filter for users with blank user id\n",
    "blank_pages = user_log.filter(user_log.userId == '') \\\n",
    "    .select(col('page') \\\n",
    "    .alias('blank_pages')) \\\n",
    "    .dropDuplicates()\n",
    "\n",
    "# get a list of possible pages that could be visited\n",
    "all_pages = user_log.select('page').dropDuplicates()\n",
    "\n",
    "# find values in all_pages that are not in blank_pages\n",
    "# these are the pages that the blank user did not go to\n",
    "for row in set(all_pages.collect()) - set(blank_pages.collect()):\n",
    "    print(row.page)"
   ]
  },
  {
   "cell_type": "markdown",
   "metadata": {},
   "source": [
    "# Question 2 - Reflect\n",
    "\n",
    "What type of user does the empty string user id most likely refer to?\n"
   ]
  },
  {
   "cell_type": "code",
   "execution_count": 10,
   "metadata": {},
   "outputs": [
    {
     "data": {
      "text/plain": [
       "[Row(userId='', page='Login', level='free', song=None),\n",
       " Row(userId='', page='Home', level='paid', song=None),\n",
       " Row(userId='', page='Home', level='free', song=None),\n",
       " Row(userId='', page='Home', level='paid', song=None),\n",
       " Row(userId='', page='Login', level='paid', song=None),\n",
       " Row(userId='', page='Login', level='free', song=None),\n",
       " Row(userId='', page='Home', level='paid', song=None),\n",
       " Row(userId='', page='Home', level='paid', song=None),\n",
       " Row(userId='', page='Login', level='paid', song=None),\n",
       " Row(userId='', page='Home', level='paid', song=None),\n",
       " Row(userId='', page='Login', level='paid', song=None),\n",
       " Row(userId='', page='Home', level='paid', song=None),\n",
       " Row(userId='', page='Help', level='paid', song=None),\n",
       " Row(userId='', page='Home', level='paid', song=None),\n",
       " Row(userId='', page='Login', level='paid', song=None),\n",
       " Row(userId='', page='Home', level='free', song=None),\n",
       " Row(userId='', page='Login', level='free', song=None),\n",
       " Row(userId='', page='Home', level='free', song=None),\n",
       " Row(userId='', page='Login', level='free', song=None),\n",
       " Row(userId='', page='Home', level='paid', song=None),\n",
       " Row(userId='', page='Login', level='paid', song=None),\n",
       " Row(userId='', page='Home', level='free', song=None),\n",
       " Row(userId='', page='About', level='free', song=None),\n",
       " Row(userId='', page='Login', level='free', song=None),\n",
       " Row(userId='', page='Home', level='free', song=None),\n",
       " Row(userId='', page='Login', level='free', song=None),\n",
       " Row(userId='', page='Home', level='paid', song=None),\n",
       " Row(userId='', page='Login', level='paid', song=None),\n",
       " Row(userId='', page='Home', level='free', song=None),\n",
       " Row(userId='', page='Login', level='free', song=None),\n",
       " Row(userId='', page='Home', level='free', song=None),\n",
       " Row(userId='', page='Home', level='paid', song=None),\n",
       " Row(userId='', page='About', level='paid', song=None),\n",
       " Row(userId='', page='Home', level='paid', song=None),\n",
       " Row(userId='', page='Home', level='paid', song=None),\n",
       " Row(userId='', page='Home', level='free', song=None),\n",
       " Row(userId='', page='About', level='free', song=None),\n",
       " Row(userId='', page='Home', level='paid', song=None),\n",
       " Row(userId='', page='About', level='paid', song=None),\n",
       " Row(userId='', page='Home', level='paid', song=None),\n",
       " Row(userId='', page='Home', level='free', song=None),\n",
       " Row(userId='', page='Help', level='free', song=None),\n",
       " Row(userId='', page='Home', level='free', song=None),\n",
       " Row(userId='', page='Login', level='free', song=None),\n",
       " Row(userId='', page='Home', level='paid', song=None),\n",
       " Row(userId='', page='Home', level='free', song=None),\n",
       " Row(userId='', page='Login', level='free', song=None),\n",
       " Row(userId='', page='Home', level='paid', song=None),\n",
       " Row(userId='', page='Login', level='paid', song=None),\n",
       " Row(userId='', page='Home', level='paid', song=None),\n",
       " Row(userId='', page='Home', level='free', song=None),\n",
       " Row(userId='', page='Login', level='free', song=None),\n",
       " Row(userId='', page='Home', level='free', song=None),\n",
       " Row(userId='', page='About', level='free', song=None),\n",
       " Row(userId='', page='Home', level='free', song=None),\n",
       " Row(userId='', page='Login', level='free', song=None),\n",
       " Row(userId='', page='Home', level='paid', song=None),\n",
       " Row(userId='', page='Home', level='paid', song=None),\n",
       " Row(userId='', page='Home', level='paid', song=None),\n",
       " Row(userId='', page='About', level='paid', song=None),\n",
       " Row(userId='', page='Login', level='paid', song=None),\n",
       " Row(userId='', page='Home', level='free', song=None),\n",
       " Row(userId='', page='About', level='free', song=None),\n",
       " Row(userId='', page='Home', level='free', song=None),\n",
       " Row(userId='', page='Home', level='paid', song=None),\n",
       " Row(userId='', page='Login', level='paid', song=None),\n",
       " Row(userId='', page='Login', level='paid', song=None),\n",
       " Row(userId='', page='Home', level='paid', song=None),\n",
       " Row(userId='', page='Home', level='free', song=None),\n",
       " Row(userId='', page='Login', level='free', song=None),\n",
       " Row(userId='', page='Home', level='free', song=None),\n",
       " Row(userId='', page='Login', level='free', song=None),\n",
       " Row(userId='', page='Home', level='paid', song=None),\n",
       " Row(userId='', page='Home', level='paid', song=None),\n",
       " Row(userId='', page='Help', level='paid', song=None),\n",
       " Row(userId='', page='Login', level='free', song=None),\n",
       " Row(userId='', page='Home', level='free', song=None),\n",
       " Row(userId='', page='Login', level='free', song=None),\n",
       " Row(userId='', page='Login', level='paid', song=None),\n",
       " Row(userId='', page='Home', level='free', song=None),\n",
       " Row(userId='', page='Home', level='free', song=None),\n",
       " Row(userId='', page='Home', level='free', song=None),\n",
       " Row(userId='', page='Login', level='free', song=None),\n",
       " Row(userId='', page='Home', level='free', song=None),\n",
       " Row(userId='', page='Login', level='free', song=None),\n",
       " Row(userId='', page='Home', level='paid', song=None),\n",
       " Row(userId='', page='Login', level='paid', song=None),\n",
       " Row(userId='', page='Login', level='free', song=None),\n",
       " Row(userId='', page='Home', level='paid', song=None),\n",
       " Row(userId='', page='Login', level='paid', song=None),\n",
       " Row(userId='', page='Home', level='paid', song=None),\n",
       " Row(userId='', page='About', level='paid', song=None),\n",
       " Row(userId='', page='Home', level='paid', song=None),\n",
       " Row(userId='', page='Home', level='free', song=None),\n",
       " Row(userId='', page='Home', level='paid', song=None),\n",
       " Row(userId='', page='Login', level='paid', song=None),\n",
       " Row(userId='', page='Home', level='free', song=None),\n",
       " Row(userId='', page='Login', level='free', song=None),\n",
       " Row(userId='', page='Home', level='free', song=None),\n",
       " Row(userId='', page='Login', level='free', song=None),\n",
       " Row(userId='', page='Home', level='free', song=None),\n",
       " Row(userId='', page='Login', level='free', song=None),\n",
       " Row(userId='', page='Home', level='free', song=None),\n",
       " Row(userId='', page='Login', level='free', song=None),\n",
       " Row(userId='', page='Home', level='free', song=None),\n",
       " Row(userId='', page='About', level='free', song=None),\n",
       " Row(userId='', page='Home', level='free', song=None),\n",
       " Row(userId='', page='Login', level='free', song=None),\n",
       " Row(userId='', page='Home', level='paid', song=None),\n",
       " Row(userId='', page='Login', level='free', song=None),\n",
       " Row(userId='', page='Home', level='paid', song=None),\n",
       " Row(userId='', page='Login', level='paid', song=None),\n",
       " Row(userId='', page='Home', level='free', song=None),\n",
       " Row(userId='', page='Login', level='free', song=None),\n",
       " Row(userId='', page='Home', level='free', song=None),\n",
       " Row(userId='', page='Login', level='free', song=None),\n",
       " Row(userId='', page='Login', level='paid', song=None),\n",
       " Row(userId='', page='Login', level='paid', song=None),\n",
       " Row(userId='', page='Login', level='free', song=None),\n",
       " Row(userId='', page='Home', level='paid', song=None),\n",
       " Row(userId='', page='Home', level='paid', song=None),\n",
       " Row(userId='', page='Home', level='paid', song=None),\n",
       " Row(userId='', page='Home', level='free', song=None),\n",
       " Row(userId='', page='Login', level='free', song=None),\n",
       " Row(userId='', page='Home', level='paid', song=None),\n",
       " Row(userId='', page='Home', level='free', song=None),\n",
       " Row(userId='', page='Home', level='paid', song=None),\n",
       " Row(userId='', page='Help', level='paid', song=None),\n",
       " Row(userId='', page='Login', level='paid', song=None),\n",
       " Row(userId='', page='Home', level='free', song=None),\n",
       " Row(userId='', page='Login', level='free', song=None),\n",
       " Row(userId='', page='Home', level='free', song=None),\n",
       " Row(userId='', page='Home', level='paid', song=None),\n",
       " Row(userId='', page='Home', level='free', song=None),\n",
       " Row(userId='', page='Login', level='free', song=None),\n",
       " Row(userId='', page='About', level='free', song=None),\n",
       " Row(userId='', page='Login', level='free', song=None),\n",
       " Row(userId='', page='Home', level='paid', song=None),\n",
       " Row(userId='', page='Home', level='paid', song=None),\n",
       " Row(userId='', page='Home', level='free', song=None),\n",
       " Row(userId='', page='Home', level='free', song=None),\n",
       " Row(userId='', page='Login', level='free', song=None),\n",
       " Row(userId='', page='Home', level='paid', song=None),\n",
       " Row(userId='', page='Home', level='paid', song=None),\n",
       " Row(userId='', page='Login', level='free', song=None),\n",
       " Row(userId='', page='Home', level='paid', song=None),\n",
       " Row(userId='', page='Home', level='paid', song=None),\n",
       " Row(userId='', page='Login', level='paid', song=None),\n",
       " Row(userId='', page='Login', level='paid', song=None),\n",
       " Row(userId='', page='Home', level='free', song=None),\n",
       " Row(userId='', page='Login', level='free', song=None),\n",
       " Row(userId='', page='Home', level='paid', song=None),\n",
       " Row(userId='', page='Home', level='paid', song=None),\n",
       " Row(userId='', page='Home', level='free', song=None),\n",
       " Row(userId='', page='Login', level='free', song=None),\n",
       " Row(userId='', page='Home', level='free', song=None),\n",
       " Row(userId='', page='Login', level='free', song=None),\n",
       " Row(userId='', page='Home', level='free', song=None),\n",
       " Row(userId='', page='Login', level='free', song=None),\n",
       " Row(userId='', page='Home', level='free', song=None),\n",
       " Row(userId='', page='Login', level='free', song=None),\n",
       " Row(userId='', page='Home', level='free', song=None),\n",
       " Row(userId='', page='Login', level='free', song=None),\n",
       " Row(userId='', page='Home', level='free', song=None),\n",
       " Row(userId='', page='Login', level='free', song=None),\n",
       " Row(userId='', page='Login', level='paid', song=None),\n",
       " Row(userId='', page='Home', level='paid', song=None),\n",
       " Row(userId='', page='Home', level='free', song=None),\n",
       " Row(userId='', page='Login', level='paid', song=None),\n",
       " Row(userId='', page='Home', level='paid', song=None),\n",
       " Row(userId='', page='Login', level='paid', song=None),\n",
       " Row(userId='', page='Home', level='free', song=None),\n",
       " Row(userId='', page='Login', level='free', song=None),\n",
       " Row(userId='', page='Home', level='free', song=None),\n",
       " Row(userId='', page='About', level='free', song=None),\n",
       " Row(userId='', page='Home', level='paid', song=None),\n",
       " Row(userId='', page='Home', level='paid', song=None),\n",
       " Row(userId='', page='Home', level='free', song=None),\n",
       " Row(userId='', page='Login', level='free', song=None),\n",
       " Row(userId='', page='Home', level='free', song=None),\n",
       " Row(userId='', page='Home', level='paid', song=None),\n",
       " Row(userId='', page='Login', level='paid', song=None),\n",
       " Row(userId='', page='Login', level='free', song=None),\n",
       " Row(userId='', page='Home', level='free', song=None),\n",
       " Row(userId='', page='Home', level='free', song=None),\n",
       " Row(userId='', page='Login', level='free', song=None),\n",
       " Row(userId='', page='Home', level='paid', song=None),\n",
       " Row(userId='', page='Home', level='free', song=None),\n",
       " Row(userId='', page='Home', level='free', song=None),\n",
       " Row(userId='', page='Login', level='free', song=None),\n",
       " Row(userId='', page='Home', level='paid', song=None),\n",
       " Row(userId='', page='Home', level='paid', song=None),\n",
       " Row(userId='', page='Home', level='free', song=None),\n",
       " Row(userId='', page='Login', level='free', song=None),\n",
       " Row(userId='', page='Login', level='paid', song=None),\n",
       " Row(userId='', page='Home', level='paid', song=None),\n",
       " Row(userId='', page='Login', level='paid', song=None),\n",
       " Row(userId='', page='Home', level='paid', song=None),\n",
       " Row(userId='', page='Home', level='paid', song=None),\n",
       " Row(userId='', page='Login', level='paid', song=None),\n",
       " Row(userId='', page='Home', level='free', song=None),\n",
       " Row(userId='', page='Home', level='paid', song=None),\n",
       " Row(userId='', page='About', level='paid', song=None),\n",
       " Row(userId='', page='Home', level='free', song=None),\n",
       " Row(userId='', page='Login', level='free', song=None),\n",
       " Row(userId='', page='Home', level='paid', song=None),\n",
       " Row(userId='', page='Home', level='free', song=None),\n",
       " Row(userId='', page='Login', level='free', song=None),\n",
       " Row(userId='', page='Login', level='free', song=None),\n",
       " Row(userId='', page='Home', level='free', song=None),\n",
       " Row(userId='', page='Login', level='free', song=None),\n",
       " Row(userId='', page='Home', level='free', song=None),\n",
       " Row(userId='', page='Help', level='free', song=None),\n",
       " Row(userId='', page='Home', level='free', song=None),\n",
       " Row(userId='', page='Home', level='free', song=None),\n",
       " Row(userId='', page='Home', level='paid', song=None),\n",
       " Row(userId='', page='Login', level='paid', song=None),\n",
       " Row(userId='', page='Home', level='paid', song=None),\n",
       " Row(userId='', page='Login', level='paid', song=None),\n",
       " Row(userId='', page='Home', level='free', song=None),\n",
       " Row(userId='', page='Login', level='free', song=None),\n",
       " Row(userId='', page='Login', level='paid', song=None),\n",
       " Row(userId='', page='Login', level='paid', song=None),\n",
       " Row(userId='', page='Home', level='paid', song=None),\n",
       " Row(userId='', page='Login', level='paid', song=None),\n",
       " Row(userId='', page='Home', level='paid', song=None),\n",
       " Row(userId='', page='Login', level='paid', song=None),\n",
       " Row(userId='', page='Home', level='free', song=None),\n",
       " Row(userId='', page='Home', level='free', song=None),\n",
       " Row(userId='', page='Login', level='free', song=None),\n",
       " Row(userId='', page='Home', level='free', song=None),\n",
       " Row(userId='', page='Home', level='free', song=None),\n",
       " Row(userId='', page='Home', level='free', song=None),\n",
       " Row(userId='', page='Home', level='free', song=None),\n",
       " Row(userId='', page='Login', level='free', song=None),\n",
       " Row(userId='', page='Home', level='free', song=None),\n",
       " Row(userId='', page='Home', level='free', song=None),\n",
       " Row(userId='', page='Home', level='free', song=None),\n",
       " Row(userId='', page='Login', level='free', song=None),\n",
       " Row(userId='', page='Home', level='paid', song=None),\n",
       " Row(userId='', page='Home', level='free', song=None),\n",
       " Row(userId='', page='Login', level='free', song=None),\n",
       " Row(userId='', page='Home', level='paid', song=None),\n",
       " Row(userId='', page='Login', level='paid', song=None),\n",
       " Row(userId='', page='Home', level='free', song=None),\n",
       " Row(userId='', page='Help', level='free', song=None),\n",
       " Row(userId='', page='Login', level='free', song=None),\n",
       " Row(userId='', page='Home', level='free', song=None),\n",
       " Row(userId='', page='Login', level='free', song=None),\n",
       " Row(userId='', page='Home', level='free', song=None),\n",
       " Row(userId='', page='Login', level='free', song=None),\n",
       " Row(userId='', page='Home', level='paid', song=None),\n",
       " Row(userId='', page='Home', level='paid', song=None),\n",
       " Row(userId='', page='Help', level='paid', song=None),\n",
       " Row(userId='', page='Login', level='paid', song=None),\n",
       " Row(userId='', page='Home', level='paid', song=None),\n",
       " Row(userId='', page='Home', level='paid', song=None),\n",
       " Row(userId='', page='Home', level='paid', song=None),\n",
       " Row(userId='', page='Login', level='paid', song=None),\n",
       " Row(userId='', page='Home', level='free', song=None),\n",
       " Row(userId='', page='Login', level='free', song=None),\n",
       " Row(userId='', page='Home', level='free', song=None),\n",
       " Row(userId='', page='Home', level='paid', song=None),\n",
       " Row(userId='', page='Login', level='paid', song=None),\n",
       " Row(userId='', page='Home', level='free', song=None),\n",
       " Row(userId='', page='Help', level='free', song=None),\n",
       " Row(userId='', page='Login', level='free', song=None),\n",
       " Row(userId='', page='Login', level='free', song=None),\n",
       " Row(userId='', page='Home', level='paid', song=None),\n",
       " Row(userId='', page='Login', level='paid', song=None),\n",
       " Row(userId='', page='Home', level='paid', song=None),\n",
       " Row(userId='', page='Home', level='paid', song=None),\n",
       " Row(userId='', page='Login', level='paid', song=None),\n",
       " Row(userId='', page='Home', level='free', song=None),\n",
       " Row(userId='', page='Login', level='free', song=None),\n",
       " Row(userId='', page='Home', level='free', song=None),\n",
       " Row(userId='', page='Login', level='free', song=None),\n",
       " Row(userId='', page='Login', level='paid', song=None),\n",
       " Row(userId='', page='Login', level='paid', song=None),\n",
       " Row(userId='', page='Home', level='free', song=None),\n",
       " Row(userId='', page='Login', level='free', song=None),\n",
       " Row(userId='', page='Login', level='paid', song=None),\n",
       " Row(userId='', page='Home', level='paid', song=None),\n",
       " Row(userId='', page='Home', level='free', song=None),\n",
       " Row(userId='', page='Login', level='free', song=None),\n",
       " Row(userId='', page='Home', level='paid', song=None),\n",
       " Row(userId='', page='Login', level='paid', song=None),\n",
       " Row(userId='', page='Home', level='paid', song=None),\n",
       " Row(userId='', page='Home', level='paid', song=None),\n",
       " Row(userId='', page='Home', level='free', song=None),\n",
       " Row(userId='', page='Home', level='free', song=None),\n",
       " Row(userId='', page='Home', level='free', song=None),\n",
       " Row(userId='', page='Login', level='free', song=None),\n",
       " Row(userId='', page='Home', level='free', song=None),\n",
       " Row(userId='', page='Login', level='free', song=None),\n",
       " Row(userId='', page='Home', level='free', song=None),\n",
       " Row(userId='', page='Login', level='free', song=None),\n",
       " Row(userId='', page='Login', level='paid', song=None),\n",
       " Row(userId='', page='Home', level='paid', song=None),\n",
       " Row(userId='', page='Home', level='free', song=None),\n",
       " Row(userId='', page='Home', level='free', song=None),\n",
       " Row(userId='', page='Login', level='free', song=None),\n",
       " Row(userId='', page='Home', level='paid', song=None),\n",
       " Row(userId='', page='Login', level='paid', song=None),\n",
       " Row(userId='', page='Home', level='paid', song=None),\n",
       " Row(userId='', page='About', level='paid', song=None),\n",
       " Row(userId='', page='Home', level='paid', song=None),\n",
       " Row(userId='', page='Login', level='paid', song=None),\n",
       " Row(userId='', page='Home', level='free', song=None),\n",
       " Row(userId='', page='Login', level='free', song=None),\n",
       " Row(userId='', page='Home', level='free', song=None),\n",
       " Row(userId='', page='Home', level='free', song=None),\n",
       " Row(userId='', page='Login', level='free', song=None),\n",
       " Row(userId='', page='Home', level='paid', song=None),\n",
       " Row(userId='', page='Home', level='free', song=None),\n",
       " Row(userId='', page='Login', level='free', song=None),\n",
       " Row(userId='', page='Home', level='free', song=None),\n",
       " Row(userId='', page='Login', level='free', song=None),\n",
       " Row(userId='', page='Login', level='free', song=None),\n",
       " Row(userId='', page='Home', level='paid', song=None),\n",
       " Row(userId='', page='Login', level='paid', song=None),\n",
       " Row(userId='', page='Login', level='free', song=None),\n",
       " Row(userId='', page='Home', level='free', song=None),\n",
       " Row(userId='', page='Home', level='free', song=None),\n",
       " Row(userId='', page='Home', level='free', song=None),\n",
       " Row(userId='', page='Login', level='free', song=None),\n",
       " Row(userId='', page='About', level='free', song=None),\n",
       " Row(userId='', page='Home', level='free', song=None),\n",
       " Row(userId='', page='About', level='free', song=None),\n",
       " Row(userId='', page='Login', level='free', song=None),\n",
       " Row(userId='', page='Home', level='free', song=None),\n",
       " Row(userId='', page='Login', level='free', song=None),\n",
       " Row(userId='', page='Home', level='paid', song=None),\n",
       " Row(userId='', page='Home', level='paid', song=None),\n",
       " Row(userId='', page='Login', level='free', song=None),\n",
       " Row(userId='', page='Home', level='paid', song=None)]"
      ]
     },
     "execution_count": 10,
     "metadata": {},
     "output_type": "execute_result"
    }
   ],
   "source": [
    "# TODO: use this space to explore the behavior of the user with an empty string\n",
    "user_log.select([\"userId\", \"page\", \"level\", \"song\"]).where(user_log.userId == \"\").collect()"
   ]
  },
  {
   "cell_type": "markdown",
   "metadata": {},
   "source": [
    "# Question 3\n",
    "\n",
    "How many female users do we have in the data set?"
   ]
  },
  {
   "cell_type": "code",
   "execution_count": 11,
   "metadata": {},
   "outputs": [
    {
     "data": {
      "text/plain": [
       "9664"
      ]
     },
     "execution_count": 11,
     "metadata": {},
     "output_type": "execute_result"
    }
   ],
   "source": [
    "# TODO: write your code to answer question 3\n",
    "user_log_valid = user_log.dropna(how = \"any\", subset = [\"userId\", \"gender\"])\n",
    "user_log_valid.count()"
   ]
  },
  {
   "cell_type": "code",
   "execution_count": 12,
   "metadata": {},
   "outputs": [
    {
     "name": "stdout",
     "output_type": "stream",
     "text": [
      "+------+\n",
      "|userId|\n",
      "+------+\n",
      "|    10|\n",
      "|   100|\n",
      "|  1000|\n",
      "|  1003|\n",
      "|  1005|\n",
      "|  1006|\n",
      "|  1017|\n",
      "|  1019|\n",
      "|  1020|\n",
      "|  1022|\n",
      "|  1025|\n",
      "|  1030|\n",
      "|  1035|\n",
      "|  1037|\n",
      "|   104|\n",
      "|  1040|\n",
      "|  1042|\n",
      "|  1043|\n",
      "|  1046|\n",
      "|  1048|\n",
      "+------+\n",
      "only showing top 20 rows\n",
      "\n"
     ]
    }
   ],
   "source": [
    "user_log_valid.select(\"userId\").dropDuplicates().sort(\"userId\").show()"
   ]
  },
  {
   "cell_type": "code",
   "execution_count": 13,
   "metadata": {},
   "outputs": [],
   "source": [
    "user_log_valid = user_log_valid.filter(user_log_valid[\"userId\"] != \"\")"
   ]
  },
  {
   "cell_type": "code",
   "execution_count": 14,
   "metadata": {},
   "outputs": [
    {
     "data": {
      "text/plain": [
       "9664"
      ]
     },
     "execution_count": 14,
     "metadata": {},
     "output_type": "execute_result"
    }
   ],
   "source": [
    "user_log_valid.count()"
   ]
  },
  {
   "cell_type": "code",
   "execution_count": 15,
   "metadata": {},
   "outputs": [
    {
     "data": {
      "text/plain": [
       "462"
      ]
     },
     "execution_count": 15,
     "metadata": {},
     "output_type": "execute_result"
    }
   ],
   "source": [
    "user_log_valid.select(\"userId\").dropDuplicates().sort(\"userId\").where(user_log_valid.gender == \"F\").count()"
   ]
  },
  {
   "cell_type": "code",
   "execution_count": 16,
   "metadata": {},
   "outputs": [
    {
     "data": {
      "text/plain": [
       "462"
      ]
     },
     "execution_count": 16,
     "metadata": {},
     "output_type": "execute_result"
    }
   ],
   "source": [
    "user_log.filter(user_log.gender == 'F') \\\n",
    "    .select('userId', 'gender') \\\n",
    "    .dropDuplicates() \\\n",
    "    .count()"
   ]
  },
  {
   "cell_type": "markdown",
   "metadata": {},
   "source": [
    "# Question 4\n",
    "\n",
    "How many songs were played from the most played artist?"
   ]
  },
  {
   "cell_type": "code",
   "execution_count": 17,
   "metadata": {},
   "outputs": [
    {
     "name": "stdout",
     "output_type": "stream",
     "text": [
      "+-------+-----------------+\n",
      "|summary|           artist|\n",
      "+-------+-----------------+\n",
      "|  count|             8347|\n",
      "|   mean|            461.0|\n",
      "| stddev|            300.0|\n",
      "|    min|              !!!|\n",
      "|    max|ÃÂlafur Arnalds|\n",
      "+-------+-----------------+\n",
      "\n"
     ]
    }
   ],
   "source": [
    "# TODO: write your code to answer question 4\n",
    "user_log.describe(\"artist\").show()"
   ]
  },
  {
   "cell_type": "code",
   "execution_count": 18,
   "metadata": {},
   "outputs": [
    {
     "name": "stdout",
     "output_type": "stream",
     "text": [
      "+--------+-----------+\n",
      "|  Artist|Artistcount|\n",
      "+--------+-----------+\n",
      "|Coldplay|         83|\n",
      "+--------+-----------+\n",
      "only showing top 1 row\n",
      "\n"
     ]
    }
   ],
   "source": [
    "user_log.filter(user_log.page == 'NextSong') \\\n",
    "    .select('Artist') \\\n",
    "    .groupBy('Artist') \\\n",
    "    .agg({'Artist':'count'}) \\\n",
    "    .withColumnRenamed('count(Artist)', 'Artistcount') \\\n",
    "    .sort(desc('Artistcount')) \\\n",
    "    .show(1)"
   ]
  },
  {
   "cell_type": "markdown",
   "metadata": {},
   "source": [
    "# Question 5 (challenge)\n",
    "\n",
    "How many songs do users listen to on average between visiting our home page? Please round your answer to the closest integer.\n",
    "\n"
   ]
  },
  {
   "cell_type": "code",
   "execution_count": 22,
   "metadata": {},
   "outputs": [
    {
     "data": {
      "text/plain": [
       "[Row(userID='1138', ts=1513729066284, page='Home', homevisit=1, period=1),\n",
       " Row(userID='1138', ts=1513729066284, page='NextSong', homevisit=0, period=1),\n",
       " Row(userID='1138', ts=1513729313284, page='NextSong', homevisit=0, period=1),\n",
       " Row(userID='1138', ts=1513729552284, page='NextSong', homevisit=0, period=1),\n",
       " Row(userID='1138', ts=1513729783284, page='NextSong', homevisit=0, period=1),\n",
       " Row(userID='1138', ts=1513730001284, page='NextSong', homevisit=0, period=1),\n",
       " Row(userID='1138', ts=1513730263284, page='NextSong', homevisit=0, period=1),\n",
       " Row(userID='1138', ts=1513730518284, page='NextSong', homevisit=0, period=1),\n",
       " Row(userID='1138', ts=1513730768284, page='NextSong', homevisit=0, period=1),\n",
       " Row(userID='1138', ts=1513731182284, page='NextSong', homevisit=0, period=1),\n",
       " Row(userID='1138', ts=1513731435284, page='NextSong', homevisit=0, period=1),\n",
       " Row(userID='1138', ts=1513731695284, page='NextSong', homevisit=0, period=1),\n",
       " Row(userID='1138', ts=1513731857284, page='NextSong', homevisit=0, period=1),\n",
       " Row(userID='1138', ts=1513732160284, page='NextSong', homevisit=0, period=1),\n",
       " Row(userID='1138', ts=1513732302284, page='NextSong', homevisit=0, period=1),\n",
       " Row(userID='1138', ts=1513732540284, page='NextSong', homevisit=0, period=1),\n",
       " Row(userID='1138', ts=1513732770284, page='NextSong', homevisit=0, period=1),\n",
       " Row(userID='1138', ts=1513732994284, page='NextSong', homevisit=0, period=1),\n",
       " Row(userID='1138', ts=1513733223284, page='NextSong', homevisit=0, period=1),\n",
       " Row(userID='1138', ts=1513733456284, page='NextSong', homevisit=0, period=1),\n",
       " Row(userID='1138', ts=1513733738284, page='NextSong', homevisit=0, period=1),\n",
       " Row(userID='1138', ts=1513733941284, page='NextSong', homevisit=0, period=1),\n",
       " Row(userID='1138', ts=1513734289284, page='NextSong', homevisit=0, period=1),\n",
       " Row(userID='1138', ts=1513734598284, page='NextSong', homevisit=0, period=1),\n",
       " Row(userID='1138', ts=1513734863284, page='NextSong', homevisit=0, period=1),\n",
       " Row(userID='1138', ts=1513735174284, page='NextSong', homevisit=0, period=1),\n",
       " Row(userID='1138', ts=1513735385284, page='NextSong', homevisit=0, period=1),\n",
       " Row(userID='1138', ts=1513736040284, page='NextSong', homevisit=0, period=1),\n",
       " Row(userID='1138', ts=1513736237284, page='NextSong', homevisit=0, period=1),\n",
       " Row(userID='1138', ts=1513736446284, page='NextSong', homevisit=0, period=1),\n",
       " Row(userID='1138', ts=1513736709284, page='NextSong', homevisit=0, period=1),\n",
       " Row(userID='1138', ts=1513736915284, page='NextSong', homevisit=0, period=1),\n",
       " Row(userID='1138', ts=1513737160284, page='NextSong', homevisit=0, period=1),\n",
       " Row(userID='1138', ts=1513737460284, page='NextSong', homevisit=0, period=1),\n",
       " Row(userID='1138', ts=1513737728284, page='NextSong', homevisit=0, period=1),\n",
       " Row(userID='1138', ts=1513737936284, page='NextSong', homevisit=0, period=1),\n",
       " Row(userID='1138', ts=1513738144284, page='NextSong', homevisit=0, period=1),\n",
       " Row(userID='1138', ts=1513738432284, page='NextSong', homevisit=0, period=1),\n",
       " Row(userID='1138', ts=1513763195284, page='NextSong', homevisit=0, period=1),\n",
       " Row(userID='1138', ts=1513763453284, page='NextSong', homevisit=0, period=1),\n",
       " Row(userID='1138', ts=1513763622284, page='NextSong', homevisit=0, period=1),\n",
       " Row(userID='1138', ts=1513763890284, page='NextSong', homevisit=0, period=1),\n",
       " Row(userID='1138', ts=1513764238284, page='NextSong', homevisit=0, period=1),\n",
       " Row(userID='1138', ts=1513764462284, page='NextSong', homevisit=0, period=1),\n",
       " Row(userID='1138', ts=1513764782284, page='NextSong', homevisit=0, period=1),\n",
       " Row(userID='1138', ts=1513765075284, page='NextSong', homevisit=0, period=2),\n",
       " Row(userID='1138', ts=1513765075284, page='Home', homevisit=1, period=2),\n",
       " Row(userID='1138', ts=1513765448284, page='NextSong', homevisit=0, period=2),\n",
       " Row(userID='1138', ts=1513765655284, page='NextSong', homevisit=0, period=2),\n",
       " Row(userID='1138', ts=1513765818284, page='NextSong', homevisit=0, period=2),\n",
       " Row(userID='1138', ts=1513766091284, page='NextSong', homevisit=0, period=2),\n",
       " Row(userID='1138', ts=1513766189284, page='NextSong', homevisit=0, period=2),\n",
       " Row(userID='1138', ts=1513766385284, page='NextSong', homevisit=0, period=2),\n",
       " Row(userID='1138', ts=1513766599284, page='NextSong', homevisit=0, period=2),\n",
       " Row(userID='1138', ts=1513766838284, page='NextSong', homevisit=0, period=2),\n",
       " Row(userID='1138', ts=1513767203284, page='NextSong', homevisit=0, period=2),\n",
       " Row(userID='1138', ts=1513767413284, page='NextSong', homevisit=0, period=2),\n",
       " Row(userID='1138', ts=1513767643284, page='NextSong', homevisit=0, period=2),\n",
       " Row(userID='1138', ts=1513768012284, page='NextSong', homevisit=0, period=2),\n",
       " Row(userID='1138', ts=1513768242284, page='NextSong', homevisit=0, period=2),\n",
       " Row(userID='1138', ts=1513768452284, page='NextSong', homevisit=0, period=2),\n",
       " Row(userID='1138', ts=1513768456284, page='Home', homevisit=1, period=3),\n",
       " Row(userID='1138', ts=1513814880284, page='NextSong', homevisit=0, period=3),\n",
       " Row(userID='1138', ts=1513821430284, page='Home', homevisit=1, period=4),\n",
       " Row(userID='1138', ts=1513833144284, page='NextSong', homevisit=0, period=4)]"
      ]
     },
     "execution_count": 22,
     "metadata": {},
     "output_type": "execute_result"
    }
   ],
   "source": [
    "# TODO: write your code to answer question 5\n",
    "# udf returns a string\n",
    "function = udf(lambda ishome : int(ishome == 'Home'), IntegerType())\n",
    "\n",
    "# sort records in reversed time order, and add up the values in the homevisit column for all previous rows\n",
    "# why desc? we want the total number of songs before homevisit \n",
    "user_window = Window \\\n",
    "    .partitionBy('userID') \\\n",
    "    .orderBy(desc('ts')) \\\n",
    "    .rangeBetween(Window.unboundedPreceding, 0)\n",
    "\n",
    "# flag if page is 'Home'\n",
    "# and calculate the cumulative sum of homevisit by userID in reversed time order\n",
    "cusum = user_log.filter((user_log.page == 'NextSong') | (user_log.page == 'Home')) \\\n",
    "    .select('userID', 'page', 'ts') \\\n",
    "    .withColumn('homevisit', function(col('page'))) \\\n",
    "    .withColumn('period', Fsum('homevisit').over(user_window))\n",
    "\n",
    "cusum.select([\"userID\", \"ts\", \"page\", \"homevisit\", 'period']).where(cusum.userID == \"1138\").sort(\"ts\").collect()\n",
    "\n"
   ]
  },
  {
   "cell_type": "code",
   "execution_count": 23,
   "metadata": {},
   "outputs": [
    {
     "name": "stdout",
     "output_type": "stream",
     "text": [
      "+------------------+\n",
      "|avg(count(period))|\n",
      "+------------------+\n",
      "|6.9558333333333335|\n",
      "+------------------+\n",
      "\n"
     ]
    }
   ],
   "source": [
    "# How many songs do users listen to on average between visiting our home page? \n",
    "# count page == 'NextSong' is the total number of songs for each period for each user\n",
    "cusum.filter((cusum.page == 'NextSong')) \\\n",
    "    .groupBy('userID', 'period') \\\n",
    "    .agg({'period':'count'}) \\\n",
    "    .agg({'count(period)':'avg'}).show()"
   ]
  },
  {
   "cell_type": "code",
   "execution_count": null,
   "metadata": {},
   "outputs": [],
   "source": []
  }
 ],
 "metadata": {
  "kernelspec": {
   "display_name": "Python 3",
   "language": "python",
   "name": "python3"
  },
  "language_info": {
   "codemirror_mode": {
    "name": "ipython",
    "version": 3
   },
   "file_extension": ".py",
   "mimetype": "text/x-python",
   "name": "python",
   "nbconvert_exporter": "python",
   "pygments_lexer": "ipython3",
   "version": "3.7.3"
  }
 },
 "nbformat": 4,
 "nbformat_minor": 2
}
