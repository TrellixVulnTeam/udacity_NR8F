{
 "cells": [
  {
   "cell_type": "code",
   "execution_count": 9,
   "metadata": {},
   "outputs": [
    {
     "data": {
      "text/plain": [
       "\"\\nNumPy stands for Numerical Python and it's a fundamental package for scientific computing in Python. \\nNumPy provides Python with an extensive math library capable of performing numerical computations effectively and \\nefficiently. \\n\""
      ]
     },
     "execution_count": 9,
     "metadata": {},
     "output_type": "execute_result"
    }
   ],
   "source": [
    "\"\"\"\n",
    "NumPy stands for Numerical Python and it's a fundamental package for scientific computing in Python. \n",
    "NumPy provides Python with an extensive math library capable of performing numerical computations effectively and \n",
    "efficiently. \n",
    "\"\"\"\n",
    "# How to import NumPy\n",
    "# How to create multidimensional NumPy ndarrays using various methods\n",
    "# How to access and change elements in ndarrays\n",
    "# How to load and save ndarrays\n",
    "# How to use slicing to select or change subsets of an ndarray\n",
    "# Understand the difference between a view and a copy an of ndarray\n",
    "# How to use Boolean indexing and set operations to select or change subsets of an ndarray\n",
    "# How to sort ndarrays\n",
    "# How to perform element-wise operations on ndarrays\n",
    "# Understand how NumPy uses broadcasting to perform operations on ndarrays of different sizes."
   ]
  },
  {
   "cell_type": "code",
   "execution_count": 2,
   "metadata": {},
   "outputs": [],
   "source": [
    "import time\n",
    "import numpy as np"
   ]
  },
  {
   "cell_type": "code",
   "execution_count": 2,
   "metadata": {},
   "outputs": [],
   "source": [
    "x = np.random.random(100000000)"
   ]
  },
  {
   "cell_type": "code",
   "execution_count": 4,
   "metadata": {},
   "outputs": [
    {
     "name": "stdout",
     "output_type": "stream",
     "text": [
      "0.025588035583496094\n"
     ]
    }
   ],
   "source": [
    "start = time.time()\n",
    "sum(x) / len(x)\n",
    "print(time.time() - start)"
   ]
  },
  {
   "cell_type": "code",
   "execution_count": 5,
   "metadata": {},
   "outputs": [
    {
     "name": "stdout",
     "output_type": "stream",
     "text": [
      "0.0006458759307861328\n"
     ]
    }
   ],
   "source": [
    "start = time.time()\n",
    "np.mean(x)\n",
    "print(time.time() - start)"
   ]
  },
  {
   "cell_type": "code",
   "execution_count": 6,
   "metadata": {},
   "outputs": [],
   "source": [
    "# create an ndarray\n",
    "# np.array() is NOT a class, it is just a function that returns an ndarray. \n",
    "x = np.array([1, 2, 3, 4, 5])"
   ]
  },
  {
   "cell_type": "code",
   "execution_count": 7,
   "metadata": {},
   "outputs": [
    {
     "name": "stdout",
     "output_type": "stream",
     "text": [
      "<class 'numpy.ndarray'>\n"
     ]
    }
   ],
   "source": [
    "print(type(x))"
   ]
  },
  {
   "cell_type": "code",
   "execution_count": 8,
   "metadata": {},
   "outputs": [
    {
     "data": {
      "text/plain": [
       "dtype('int64')"
      ]
     },
     "execution_count": 8,
     "metadata": {},
     "output_type": "execute_result"
    }
   ],
   "source": [
    "# the elements in x are stored in memory a signed 64-bit integers\n",
    "# numpy has more datatype than python\n",
    "x.dtype "
   ]
  },
  {
   "cell_type": "code",
   "execution_count": 11,
   "metadata": {},
   "outputs": [
    {
     "data": {
      "text/plain": [
       "(5,)"
      ]
     },
     "execution_count": 11,
     "metadata": {},
     "output_type": "execute_result"
    }
   ],
   "source": [
    "x.shape # return a tuple"
   ]
  },
  {
   "cell_type": "code",
   "execution_count": 17,
   "metadata": {},
   "outputs": [
    {
     "data": {
      "text/plain": [
       "(2, 3)"
      ]
     },
     "execution_count": 17,
     "metadata": {},
     "output_type": "execute_result"
    }
   ],
   "source": [
    "Y = np.array([[1,2,3],[4,5,6]])\n",
    "Y.shape"
   ]
  },
  {
   "cell_type": "code",
   "execution_count": 18,
   "metadata": {},
   "outputs": [
    {
     "data": {
      "text/plain": [
       "6"
      ]
     },
     "execution_count": 18,
     "metadata": {},
     "output_type": "execute_result"
    }
   ],
   "source": [
    "Y.size"
   ]
  },
  {
   "cell_type": "code",
   "execution_count": null,
   "metadata": {},
   "outputs": [],
   "source": [
    "# an array with n dimensions has a rank n\n",
    "# x is rank 1 array, and Y is rank 2 array"
   ]
  },
  {
   "cell_type": "code",
   "execution_count": 19,
   "metadata": {},
   "outputs": [
    {
     "name": "stdout",
     "output_type": "stream",
     "text": [
      "['Hello' 'world']\n"
     ]
    }
   ],
   "source": [
    "x = np.array(['Hello', 'world'])\n",
    "print(x)"
   ]
  },
  {
   "cell_type": "code",
   "execution_count": 20,
   "metadata": {},
   "outputs": [
    {
     "name": "stdout",
     "output_type": "stream",
     "text": [
      "shape:  (2,)\n",
      "type:  <class 'numpy.ndarray'>\n",
      "dtype:  <U5\n"
     ]
    }
   ],
   "source": [
    "print('shape: ', x.shape)\n",
    "print('type: ', type(x))\n",
    "print('dtype: ', x.dtype) # elements are stored as unicode strings of five characters"
   ]
  },
  {
   "cell_type": "code",
   "execution_count": 21,
   "metadata": {},
   "outputs": [
    {
     "name": "stdout",
     "output_type": "stream",
     "text": [
      "['1' '2' 'world']\n",
      "shape:  (3,)\n",
      "type:  <class 'numpy.ndarray'>\n",
      "dtype:  <U21\n"
     ]
    }
   ],
   "source": [
    "x = np.array([1, 2, 'world'])\n",
    "print(x)\n",
    "print('shape: ', x.shape)\n",
    "print('type: ', type(x))\n",
    "print('dtype: ', x.dtype) # Numpy array must contain elements of the same data type"
   ]
  },
  {
   "cell_type": "code",
   "execution_count": 22,
   "metadata": {},
   "outputs": [
    {
     "name": "stdout",
     "output_type": "stream",
     "text": [
      "[1.  2.  2.5]\n",
      "dtype:  float64\n"
     ]
    }
   ],
   "source": [
    "x = np.array([1, 2, 2.5])\n",
    "print(x)\n",
    "print('dtype: ', x.dtype) # upcasting"
   ]
  },
  {
   "cell_type": "code",
   "execution_count": 23,
   "metadata": {},
   "outputs": [
    {
     "name": "stdout",
     "output_type": "stream",
     "text": [
      "[1 2 2]\n",
      "dtype:  int64\n"
     ]
    }
   ],
   "source": [
    "x = np.array([1.6, 2.3, 2.5], dtype = np.int64)\n",
    "print(x)\n",
    "print('dtype: ', x.dtype)"
   ]
  },
  {
   "cell_type": "code",
   "execution_count": 25,
   "metadata": {},
   "outputs": [],
   "source": [
    "# save array into the file\n",
    "x = np.array([1.6, 2.3, 2.5])\n",
    "# save the nparray into my_array.npy\n",
    "np.save('my_array', x)\n"
   ]
  },
  {
   "cell_type": "code",
   "execution_count": 29,
   "metadata": {},
   "outputs": [
    {
     "name": "stdout",
     "output_type": "stream",
     "text": [
      "[1.6 2.3 2.5]\n"
     ]
    }
   ],
   "source": [
    "y = np.load('my_array.npy')\n",
    "print(y)"
   ]
  },
  {
   "cell_type": "code",
   "execution_count": 31,
   "metadata": {},
   "outputs": [
    {
     "name": "stdout",
     "output_type": "stream",
     "text": [
      "[[0 0 0 0]\n",
      " [0 0 0 0]\n",
      " [0 0 0 0]]\n",
      "dtype:  int64\n"
     ]
    }
   ],
   "source": [
    "x = np.zeros((3, 4), dtype=int)\n",
    "print(x)\n",
    "print('dtype: ', x.dtype)"
   ]
  },
  {
   "cell_type": "code",
   "execution_count": 33,
   "metadata": {},
   "outputs": [
    {
     "name": "stdout",
     "output_type": "stream",
     "text": [
      "[[1. 1. 1. 1.]\n",
      " [1. 1. 1. 1.]\n",
      " [1. 1. 1. 1.]]\n"
     ]
    }
   ],
   "source": [
    "x = np.ones((3, 4))\n",
    "print(x)"
   ]
  },
  {
   "cell_type": "code",
   "execution_count": 34,
   "metadata": {},
   "outputs": [
    {
     "name": "stdout",
     "output_type": "stream",
     "text": [
      "[[5 5 5 5]\n",
      " [5 5 5 5]\n",
      " [5 5 5 5]]\n"
     ]
    }
   ],
   "source": [
    "x = np.full((3, 4), 5)\n",
    "print(x)"
   ]
  },
  {
   "cell_type": "code",
   "execution_count": 35,
   "metadata": {},
   "outputs": [
    {
     "name": "stdout",
     "output_type": "stream",
     "text": [
      "[[1. 0. 0. 0. 0.]\n",
      " [0. 1. 0. 0. 0.]\n",
      " [0. 0. 1. 0. 0.]\n",
      " [0. 0. 0. 1. 0.]\n",
      " [0. 0. 0. 0. 1.]]\n"
     ]
    }
   ],
   "source": [
    "# identity matrix\n",
    "x = np.eye(5)\n",
    "print(x)"
   ]
  },
  {
   "cell_type": "code",
   "execution_count": 36,
   "metadata": {},
   "outputs": [
    {
     "name": "stdout",
     "output_type": "stream",
     "text": [
      "[[10  0  0  0]\n",
      " [ 0 20  0  0]\n",
      " [ 0  0 30  0]\n",
      " [ 0  0  0 40]]\n"
     ]
    }
   ],
   "source": [
    "# diagonal matrix\n",
    "x = np.diag([10, 20, 30, 40])\n",
    "print(x)"
   ]
  },
  {
   "cell_type": "code",
   "execution_count": 41,
   "metadata": {},
   "outputs": [
    {
     "name": "stdout",
     "output_type": "stream",
     "text": [
      "[2 4 6 8]\n",
      "[0 1 2 3 4 5 6 7 8 9]\n"
     ]
    }
   ],
   "source": [
    "# create a one dimensional array of evenly spaced values within given interval\n",
    "x = np.arange(2,10,2)\n",
    "print(x)\n",
    "x = np.arange(10)\n",
    "print(x)"
   ]
  },
  {
   "cell_type": "code",
   "execution_count": 46,
   "metadata": {},
   "outputs": [
    {
     "name": "stdout",
     "output_type": "stream",
     "text": [
      "[ 0.          2.77777778  5.55555556  8.33333333 11.11111111 13.88888889\n",
      " 16.66666667 19.44444444 22.22222222 25.        ]\n",
      "<class 'numpy.ndarray'>\n"
     ]
    }
   ],
   "source": [
    "# create evenly spaced values with start and step being inclusive, and the last argument is how many numbers in ndarray\n",
    "x = np.linspace(0, 25, 10)\n",
    "print(x)\n",
    "print(type(x))"
   ]
  },
  {
   "cell_type": "code",
   "execution_count": 47,
   "metadata": {},
   "outputs": [
    {
     "name": "stdout",
     "output_type": "stream",
     "text": [
      "[ 0.   2.5  5.   7.5 10.  12.5 15.  17.5 20.  22.5]\n"
     ]
    }
   ],
   "source": [
    "# exclude stop\n",
    "x = np.linspace(0, 25, 10, endpoint=False)\n",
    "print(x)"
   ]
  },
  {
   "cell_type": "code",
   "execution_count": 49,
   "metadata": {},
   "outputs": [
    {
     "name": "stdout",
     "output_type": "stream",
     "text": [
      "[ 0  1  2  3  4  5  6  7  8  9 10 11 12 13 14 15 16 17 18 19]\n",
      "[[ 0  1  2  3  4]\n",
      " [ 5  6  7  8  9]\n",
      " [10 11 12 13 14]\n",
      " [15 16 17 18 19]]\n",
      "[[ 0  1]\n",
      " [ 2  3]\n",
      " [ 4  5]\n",
      " [ 6  7]\n",
      " [ 8  9]\n",
      " [10 11]\n",
      " [12 13]\n",
      " [14 15]\n",
      " [16 17]\n",
      " [18 19]]\n"
     ]
    }
   ],
   "source": [
    "# convert array from 1D to 2D array\n",
    "x = np.arange(20)\n",
    "print(x)\n",
    "x = np.reshape(x, (4,5))\n",
    "print(x)\n",
    "x = np.reshape(x, (10,2))\n",
    "print(x)"
   ]
  },
  {
   "cell_type": "code",
   "execution_count": 50,
   "metadata": {},
   "outputs": [
    {
     "name": "stdout",
     "output_type": "stream",
     "text": [
      "[[ 0  1]\n",
      " [ 2  3]\n",
      " [ 4  5]\n",
      " [ 6  7]\n",
      " [ 8  9]\n",
      " [10 11]\n",
      " [12 13]\n",
      " [14 15]\n",
      " [16 17]\n",
      " [18 19]]\n"
     ]
    }
   ],
   "source": [
    "y = np.arange(20).reshape((10,2))\n",
    "print(y)"
   ]
  },
  {
   "cell_type": "code",
   "execution_count": 51,
   "metadata": {},
   "outputs": [
    {
     "name": "stdout",
     "output_type": "stream",
     "text": [
      "[[ 0.   2.5]\n",
      " [ 5.   7.5]\n",
      " [10.  12.5]\n",
      " [15.  17.5]\n",
      " [20.  22.5]]\n"
     ]
    }
   ],
   "source": [
    "x = np.linspace(0, 25, 10, endpoint=False).reshape(5,2)\n",
    "print(x)"
   ]
  },
  {
   "cell_type": "code",
   "execution_count": 52,
   "metadata": {},
   "outputs": [
    {
     "name": "stdout",
     "output_type": "stream",
     "text": [
      "[[0.64714633 0.99878951 0.24623881]\n",
      " [0.6659973  0.80610102 0.64893799]\n",
      " [0.5259649  0.49398645 0.46893405]]\n"
     ]
    }
   ],
   "source": [
    "# create random array with elements in the range of [0,1)\n",
    "x = np.random.random((3, 3))\n",
    "print(x)"
   ]
  },
  {
   "cell_type": "code",
   "execution_count": 56,
   "metadata": {},
   "outputs": [
    {
     "name": "stdout",
     "output_type": "stream",
     "text": [
      "[[ 8 13]\n",
      " [ 7  8]\n",
      " [ 6  6]]\n",
      "(3, 2)\n",
      "6\n"
     ]
    }
   ],
   "source": [
    "# create random array within int range [4, 15], shape = (3,2)\n",
    "x = np.random.randint(4, 15, (3,2))\n",
    "print(x)\n",
    "print(x.shape)\n",
    "print(x.size)"
   ]
  },
  {
   "cell_type": "code",
   "execution_count": 68,
   "metadata": {},
   "outputs": [
    {
     "name": "stdout",
     "output_type": "stream",
     "text": [
      "[[-0.09510796  0.03527453  0.0427768  -0.10403312 -0.07419996]\n",
      " [-0.01954138  0.06424666 -0.08885905 -0.07805707  0.03473179]\n",
      " [-0.06202288 -0.06811616 -0.0300414   0.03538116  0.05341667]\n",
      " [-0.07500103  0.05616277  0.07707693  0.06010116 -0.15894736]\n",
      " [-0.01267877  0.13016407 -0.07677104  0.03109673  0.04707128]\n",
      " [ 0.0471677  -0.0433277  -0.01459277  0.04657933 -0.10946772]\n",
      " [-0.00175192 -0.0249053   0.05883493 -0.1799187   0.07624664]\n",
      " [-0.0037275  -0.04429516  0.0554679   0.10424821 -0.04448629]\n",
      " [-0.04180734  0.03553128 -0.13997608 -0.00026844  0.15331058]\n",
      " [ 0.04640527  0.12558938 -0.08419748 -0.00958261  0.04835139]]\n",
      "(10, 5)\n"
     ]
    }
   ],
   "source": [
    "# create random array with normal distribution (mean=0, std=0.1)\n",
    "x = np.random.normal(0, 0.1, size=(10, 5))\n",
    "print('x = \\n', x)\n",
    "print(x.shape)"
   ]
  },
  {
   "cell_type": "code",
   "execution_count": 66,
   "metadata": {},
   "outputs": [
    {
     "name": "stdout",
     "output_type": "stream",
     "text": [
      "x has dimensions: (10, 5)\n",
      "x is an object of type: <class 'numpy.ndarray'>\n",
      "The elements in x are of type: float64\n",
      "The elements in x have a mean of: -0.02149017632239588\n",
      "The maximum value in x is: 0.22131093323896214\n",
      "The minimum value in x is: -0.2071549649328593\n",
      "x has 30 negative numbers\n",
      "x has 20 positive numbers\n"
     ]
    }
   ],
   "source": [
    "print('x has dimensions:', x.shape)\n",
    "print('x is an object of type:', type(x))\n",
    "print('The elements in x are of type:', x.dtype)\n",
    "print('The elements in x have a mean of:', x.mean())\n",
    "print('The maximum value in x is:', x.max())\n",
    "print('The minimum value in x is:', x.min())\n",
    "print('x has', (x < 0).sum(), 'negative numbers')\n",
    "print('x has', (x > 0).sum(), 'positive numbers')"
   ]
  },
  {
   "cell_type": "code",
   "execution_count": null,
   "metadata": {},
   "outputs": [],
   "source": [
    "# 7.9 Accessing, Deleting and Inserting"
   ]
  },
  {
   "cell_type": "code",
   "execution_count": 3,
   "metadata": {},
   "outputs": [],
   "source": [
    "import numpy as np\n",
    "x = np.array([1, 2, 3, 4, 5])"
   ]
  },
  {
   "cell_type": "code",
   "execution_count": 4,
   "metadata": {},
   "outputs": [
    {
     "name": "stdout",
     "output_type": "stream",
     "text": [
      "1\n"
     ]
    }
   ],
   "source": [
    "print(x[0])"
   ]
  },
  {
   "cell_type": "code",
   "execution_count": 5,
   "metadata": {},
   "outputs": [
    {
     "name": "stdout",
     "output_type": "stream",
     "text": [
      "[ 1  2  3 20  5]\n"
     ]
    }
   ],
   "source": [
    "x[3] = 20\n",
    "print(x)"
   ]
  },
  {
   "cell_type": "code",
   "execution_count": 6,
   "metadata": {},
   "outputs": [
    {
     "name": "stdout",
     "output_type": "stream",
     "text": [
      "[[1 2 3]\n",
      " [4 5 6]\n",
      " [7 8 9]]\n"
     ]
    }
   ],
   "source": [
    "x = np.arange(1, 10).reshape(3, 3)\n",
    "print(x)"
   ]
  },
  {
   "cell_type": "code",
   "execution_count": 7,
   "metadata": {},
   "outputs": [
    {
     "name": "stdout",
     "output_type": "stream",
     "text": [
      "[[20  2  3]\n",
      " [ 4  5  6]\n",
      " [ 7  8  9]]\n"
     ]
    }
   ],
   "source": [
    "x[0, 0] = 20\n",
    "print(x)"
   ]
  },
  {
   "cell_type": "code",
   "execution_count": 8,
   "metadata": {},
   "outputs": [
    {
     "name": "stdout",
     "output_type": "stream",
     "text": [
      "[1 2 3 4 5]\n",
      "[2 3 4]\n"
     ]
    }
   ],
   "source": [
    "x = np.array([1, 2, 3, 4, 5])\n",
    "print(x)\n",
    "\n",
    "# delete index 0 and index 4\n",
    "x = np.delete(x, [0, 4])\n",
    "print(x)"
   ]
  },
  {
   "cell_type": "code",
   "execution_count": 11,
   "metadata": {},
   "outputs": [
    {
     "name": "stdout",
     "output_type": "stream",
     "text": [
      "[[1 2 3]\n",
      " [4 5 6]\n",
      " [7 8 9]]\n",
      "\n",
      " [[4 5 6]\n",
      " [7 8 9]]\n",
      "\n",
      " [[2]\n",
      " [5]\n",
      " [8]]\n"
     ]
    }
   ],
   "source": [
    "y = np.arange(1, 10).reshape(3, 3)\n",
    "print(y)\n",
    "\n",
    "# delete first row\n",
    "w = np.delete(y, 0, axis=0)\n",
    "print('\\n', w)\n",
    "\n",
    "# delete col\n",
    "v = np.delete(y, [0,2], axis=1)\n",
    "print('\\n', v)"
   ]
  },
  {
   "cell_type": "code",
   "execution_count": 12,
   "metadata": {},
   "outputs": [
    {
     "name": "stdout",
     "output_type": "stream",
     "text": [
      "[1 2 3 4 5]\n",
      "[1 2 3 4 5 6]\n",
      "[1 2 3 4 5 6 7 8]\n"
     ]
    }
   ],
   "source": [
    "# append\n",
    "x = np.array([1, 2, 3, 4, 5])\n",
    "print(x)\n",
    "\n",
    "x = np.append(x, 6)\n",
    "print(x)\n",
    "\n",
    "x = np.append(x, [7, 8])\n",
    "print(x)"
   ]
  },
  {
   "cell_type": "code",
   "execution_count": 16,
   "metadata": {},
   "outputs": [
    {
     "name": "stdout",
     "output_type": "stream",
     "text": [
      "[[1 2 3]\n",
      " [4 5 6]\n",
      " [7 8 9]]\n",
      "\n",
      " [[ 1  2  3]\n",
      " [ 4  5  6]\n",
      " [ 7  8  9]\n",
      " [10 11 12]]\n",
      "\n",
      " [[ 1  2  3 10]\n",
      " [ 4  5  6 11]\n",
      " [ 7  8  9 12]]\n"
     ]
    }
   ],
   "source": [
    "y = np.arange(1, 10).reshape(3, 3)\n",
    "print(y)\n",
    "\n",
    "# append one row\n",
    "w = np.append(y, [[10, 11, 12]], axis=0)\n",
    "print('\\n', w)\n",
    "\n",
    "# append one column\n",
    "v = np.append(y, [[10], [11], [12]], axis=1)\n",
    "print('\\n', v)"
   ]
  },
  {
   "cell_type": "code",
   "execution_count": 17,
   "metadata": {},
   "outputs": [
    {
     "name": "stdout",
     "output_type": "stream",
     "text": [
      "[1 2 5 6 7]\n",
      "[1 2 3 4 5 6 7]\n",
      "[1 2 3 4 5 6 7 7 8]\n"
     ]
    }
   ],
   "source": [
    "# insert\n",
    "x = np.array([1, 2, 5, 6, 7])\n",
    "print(x)\n",
    "\n",
    "x = np.insert(x, 2, [3,4])\n",
    "print(x)"
   ]
  },
  {
   "cell_type": "code",
   "execution_count": 19,
   "metadata": {},
   "outputs": [
    {
     "name": "stdout",
     "output_type": "stream",
     "text": [
      "[[1 2 3]\n",
      " [4 5 6]\n",
      " [7 8 9]]\n",
      "\n",
      " [[1 2 3]\n",
      " [0 0 0]\n",
      " [4 5 6]\n",
      " [7 8 9]]\n",
      "\n",
      " [[1 0 2 3]\n",
      " [4 0 5 6]\n",
      " [7 0 8 9]]\n"
     ]
    }
   ],
   "source": [
    "y = np.arange(1, 10).reshape(3, 3)\n",
    "print(y)\n",
    "\n",
    "# insert a row\n",
    "w = np.insert(y, 1, [0, 0, 0], axis=0)\n",
    "print('\\n',w)\n",
    "\n",
    "# insert a col\n",
    "v = np.insert(y, 1, [0, 0, 0], axis=1)\n",
    "print('\\n',v)"
   ]
  },
  {
   "cell_type": "code",
   "execution_count": 24,
   "metadata": {},
   "outputs": [
    {
     "name": "stdout",
     "output_type": "stream",
     "text": [
      "[1 2]\n",
      "\n",
      " [[3 4]\n",
      " [5 6]]\n",
      "\n",
      " [[1 2]\n",
      " [3 4]\n",
      " [5 6]]\n",
      "\n",
      " [[3 4 1]\n",
      " [5 6 2]]\n"
     ]
    }
   ],
   "source": [
    "# stack arrays\n",
    "x = np.array([1, 2])\n",
    "print(x)\n",
    "y = np.array([[3, 4], [5, 6]])\n",
    "print('\\n',y)\n",
    "\n",
    "# vstack, stack x on top of y\n",
    "z = np.vstack((x, y))\n",
    "print('\\n',z)\n",
    "\n",
    "# hstack, stack x on the right side of y\n",
    "w = np.hstack((y, x.reshape(2, 1)))\n",
    "print('\\n',w)"
   ]
  },
  {
   "cell_type": "code",
   "execution_count": 25,
   "metadata": {},
   "outputs": [
    {
     "name": "stdout",
     "output_type": "stream",
     "text": [
      "[[ 1  2  3  4  5]\n",
      " [ 6  7  8  9 10]\n",
      " [11 12 13 14 15]\n",
      " [16 17 18 19 20]]\n"
     ]
    }
   ],
   "source": [
    "# 7.10\n",
    "# slicing\n",
    "# only create a view of original array\n",
    "# does not copied into new variable\n",
    "# change z will change x\n",
    "x = np.arange(1, 21).reshape(4, 5)\n",
    "print(x)"
   ]
  },
  {
   "cell_type": "code",
   "execution_count": 26,
   "metadata": {},
   "outputs": [
    {
     "name": "stdout",
     "output_type": "stream",
     "text": [
      "[[ 8  9 10]\n",
      " [13 14 15]\n",
      " [18 19 20]]\n"
     ]
    }
   ],
   "source": [
    "z = x[1:4, 2:5] # row, col\n",
    "print(z)"
   ]
  },
  {
   "cell_type": "code",
   "execution_count": 27,
   "metadata": {},
   "outputs": [
    {
     "name": "stdout",
     "output_type": "stream",
     "text": [
      "[ 3  8 13 18]\n"
     ]
    }
   ],
   "source": [
    "z = x[:, 2]\n",
    "print(z)"
   ]
  },
  {
   "cell_type": "code",
   "execution_count": 28,
   "metadata": {},
   "outputs": [
    {
     "name": "stdout",
     "output_type": "stream",
     "text": [
      "[[ 3]\n",
      " [ 8]\n",
      " [13]\n",
      " [18]]\n"
     ]
    }
   ],
   "source": [
    "z = x[:, 2:3]\n",
    "print(z)"
   ]
  },
  {
   "cell_type": "code",
   "execution_count": 29,
   "metadata": {},
   "outputs": [
    {
     "name": "stdout",
     "output_type": "stream",
     "text": [
      "[[ 1  2  3  4  5]\n",
      " [ 6  7  8  9 10]\n",
      " [11 12 13 14 15]\n",
      " [16 17 18 19 20]]\n",
      "\n",
      " [[ 8  9 10]\n",
      " [13 14 15]\n",
      " [18 19 20]]\n"
     ]
    }
   ],
   "source": [
    "# change z will change x\n",
    "x = np.arange(1, 21).reshape(4, 5)\n",
    "print(x)\n",
    "z = x[1:, 2:]\n",
    "print('\\n', z)"
   ]
  },
  {
   "cell_type": "code",
   "execution_count": 30,
   "metadata": {},
   "outputs": [
    {
     "name": "stdout",
     "output_type": "stream",
     "text": [
      "\n",
      " [[  8   9  10]\n",
      " [ 13  14  15]\n",
      " [ 18  19 555]]\n",
      "\n",
      " [[  1   2   3   4   5]\n",
      " [  6   7   8   9  10]\n",
      " [ 11  12  13  14  15]\n",
      " [ 16  17  18  19 555]]\n"
     ]
    }
   ],
   "source": [
    "z[2, 2] = 555\n",
    "print('\\n', z)\n",
    "print('\\n', x) # x is changed too"
   ]
  },
  {
   "cell_type": "code",
   "execution_count": 32,
   "metadata": {},
   "outputs": [
    {
     "name": "stdout",
     "output_type": "stream",
     "text": [
      "\n",
      " [[ 8  9 10]\n",
      " [13 14 15]\n",
      " [18 19 20]]\n",
      "\n",
      " [[  8   9  10]\n",
      " [ 13  14  15]\n",
      " [ 18  19 555]]\n",
      "\n",
      " [[ 1  2  3  4  5]\n",
      " [ 6  7  8  9 10]\n",
      " [11 12 13 14 15]\n",
      " [16 17 18 19 20]]\n"
     ]
    }
   ],
   "source": [
    "# copy creates a new array\n",
    "x = np.arange(1, 21).reshape(4, 5)\n",
    "z = x[1:, 2:].copy()\n",
    "print('\\n', z)\n",
    "z[2, 2] = 555\n",
    "print('\\n', z)\n",
    "print('\\n', x) # x did not change"
   ]
  },
  {
   "cell_type": "code",
   "execution_count": 33,
   "metadata": {},
   "outputs": [
    {
     "name": "stdout",
     "output_type": "stream",
     "text": [
      "[1 3]\n"
     ]
    }
   ],
   "source": [
    "# using array as indices to select\n",
    "indices = np.array([1,3])\n",
    "print(indices)"
   ]
  },
  {
   "cell_type": "code",
   "execution_count": 34,
   "metadata": {},
   "outputs": [
    {
     "name": "stdout",
     "output_type": "stream",
     "text": [
      "[[ 6  7  8  9 10]\n",
      " [16 17 18 19 20]]\n"
     ]
    }
   ],
   "source": [
    "y = x[indices, :]\n",
    "print(y)"
   ]
  },
  {
   "cell_type": "code",
   "execution_count": 35,
   "metadata": {},
   "outputs": [
    {
     "name": "stdout",
     "output_type": "stream",
     "text": [
      "[[ 2  4]\n",
      " [ 7  9]\n",
      " [12 14]\n",
      " [17 19]]\n"
     ]
    }
   ],
   "source": [
    "z = x[:, indices]\n",
    "print(z)"
   ]
  },
  {
   "cell_type": "code",
   "execution_count": 38,
   "metadata": {},
   "outputs": [
    {
     "name": "stdout",
     "output_type": "stream",
     "text": [
      "[[ 1  2  3  4  5]\n",
      " [ 6  7  8  9 10]\n",
      " [11 12 13 14 15]\n",
      " [16 17 18 19 20]]\n",
      "\n",
      " [ 1  7 13 19]\n",
      "\n",
      " [ 2  8 14 20]\n",
      "\n",
      " [ 6 12 18]\n"
     ]
    }
   ],
   "source": [
    "print(x)\n",
    "# grab main diagonol\n",
    "z = np.diag(x) # k=0\n",
    "print('\\n',z)\n",
    "\n",
    "# grab above main diagonol\n",
    "z = np.diag(x, k=1)\n",
    "print('\\n',z)\n",
    "\n",
    "# grab below main diagonol\n",
    "z = np.diag(x, k=-1)\n",
    "print('\\n',z)"
   ]
  },
  {
   "cell_type": "code",
   "execution_count": 39,
   "metadata": {},
   "outputs": [
    {
     "name": "stdout",
     "output_type": "stream",
     "text": [
      "[[1 2 3]\n",
      " [5 2 8]\n",
      " [1 2 3]]\n",
      "\n",
      " [1 2 3 5 8]\n"
     ]
    }
   ],
   "source": [
    "# extract unique values\n",
    "x = np.array([[1,2,3],[5,2,8],[1,2,3]])\n",
    "print(x)\n",
    "print('\\n', np.unique(x))"
   ]
  },
  {
   "cell_type": "code",
   "execution_count": null,
   "metadata": {},
   "outputs": [],
   "source": [
    "# 7.11 boolean Indexing, Set Operations, and Sorting"
   ]
  },
  {
   "cell_type": "code",
   "execution_count": 40,
   "metadata": {},
   "outputs": [
    {
     "name": "stdout",
     "output_type": "stream",
     "text": [
      "[[ 0  1  2  3  4]\n",
      " [ 5  6  7  8  9]\n",
      " [10 11 12 13 14]\n",
      " [15 16 17 18 19]\n",
      " [20 21 22 23 24]]\n"
     ]
    }
   ],
   "source": [
    "x = np.arange(25).reshape(5,5)\n",
    "print(x)"
   ]
  },
  {
   "cell_type": "code",
   "execution_count": 41,
   "metadata": {},
   "outputs": [
    {
     "name": "stdout",
     "output_type": "stream",
     "text": [
      "[11 12 13 14 15 16]\n"
     ]
    }
   ],
   "source": [
    "print(x[(x > 10) & (x < 17)])"
   ]
  },
  {
   "cell_type": "code",
   "execution_count": 42,
   "metadata": {},
   "outputs": [
    {
     "name": "stdout",
     "output_type": "stream",
     "text": [
      "[[ 0  1  2  3  4]\n",
      " [ 5  6  7  8  9]\n",
      " [10 -1 -1 -1 -1]\n",
      " [-1 -1 17 18 19]\n",
      " [20 21 22 23 24]]\n"
     ]
    }
   ],
   "source": [
    "x[(x > 10) & (x < 17)] = -1\n",
    "print(x)"
   ]
  },
  {
   "cell_type": "code",
   "execution_count": 43,
   "metadata": {},
   "outputs": [
    {
     "name": "stdout",
     "output_type": "stream",
     "text": [
      "[2 4]\n",
      "[1 3 5]\n",
      "[1 2 3 4 5 6 7 8]\n"
     ]
    }
   ],
   "source": [
    "x = np.array([1, 2, 3, 4, 5])\n",
    "y = np.array([6, 7, 2, 8, 4])\n",
    "\n",
    "print(np.intersect1d(x, y)) # both in x and y\n",
    "print(np.setdiff1d(x, y)) # in x but not in y\n",
    "print(np.union1d(x, y)) # unique elements in x and y\n"
   ]
  },
  {
   "cell_type": "code",
   "execution_count": 49,
   "metadata": {},
   "outputs": [
    {
     "name": "stdout",
     "output_type": "stream",
     "text": [
      "x:  [3 3 5 5 9 6 3 6 5 8]\n",
      "\n",
      "sorted:  [3 3 3 5 5 5 6 6 8 9]\n",
      "\n",
      "x:  [3 3 5 5 9 6 3 6 5 8]\n",
      "\n",
      "unique sorted:  [3 5 6 8 9]\n"
     ]
    }
   ],
   "source": [
    "# sort\n",
    "x = np.random.randint(1, 11, size=(10,))\n",
    "print('x: ', x)\n",
    "\n",
    "# np.sort(x) does not change x\n",
    "print('\\nsorted: ', np.sort(x))\n",
    "print('\\nx: ', x)\n",
    "\n",
    "# include only unique value\n",
    "print('\\nunique sorted: ', np.sort(np.unique(x)))"
   ]
  },
  {
   "cell_type": "code",
   "execution_count": 50,
   "metadata": {},
   "outputs": [
    {
     "name": "stdout",
     "output_type": "stream",
     "text": [
      "[3 3 3 5 5 5 6 6 8 9]\n"
     ]
    }
   ],
   "source": [
    "# x.sort() affects the original array\n",
    "x.sort()\n",
    "print(x)"
   ]
  },
  {
   "cell_type": "code",
   "execution_count": 52,
   "metadata": {},
   "outputs": [
    {
     "name": "stdout",
     "output_type": "stream",
     "text": [
      "[[ 6  1  6 10  2]\n",
      " [ 7  8  4  9  5]\n",
      " [ 5  4 10  3 10]\n",
      " [10  4  8  2  1]\n",
      " [ 8  9  9  2  5]]\n"
     ]
    }
   ],
   "source": [
    "x = np.random.randint(1, 11, size=(5, 5))\n",
    "print(x)"
   ]
  },
  {
   "cell_type": "code",
   "execution_count": 53,
   "metadata": {},
   "outputs": [
    {
     "name": "stdout",
     "output_type": "stream",
     "text": [
      "[[ 5  1  4  2  1]\n",
      " [ 6  4  6  2  2]\n",
      " [ 7  4  8  3  5]\n",
      " [ 8  8  9  9  5]\n",
      " [10  9 10 10 10]]\n"
     ]
    }
   ],
   "source": [
    "print(np.sort(x, axis=0)) # sort by rows"
   ]
  },
  {
   "cell_type": "code",
   "execution_count": 54,
   "metadata": {},
   "outputs": [
    {
     "name": "stdout",
     "output_type": "stream",
     "text": [
      "[[ 1  2  6  6 10]\n",
      " [ 4  5  7  8  9]\n",
      " [ 3  4  5 10 10]\n",
      " [ 1  2  4  8 10]\n",
      " [ 2  5  8  9  9]]\n"
     ]
    }
   ],
   "source": [
    "print(np.sort(x, axis=1)) # sort by cols"
   ]
  },
  {
   "cell_type": "code",
   "execution_count": null,
   "metadata": {},
   "outputs": [],
   "source": [
    "# 7.13 Arithmetic operations and Broadcasting\n",
    "# element-wise operations"
   ]
  },
  {
   "cell_type": "code",
   "execution_count": 55,
   "metadata": {},
   "outputs": [
    {
     "name": "stdout",
     "output_type": "stream",
     "text": [
      "[1 2 3 4]\n",
      "[5 6 7 8]\n"
     ]
    }
   ],
   "source": [
    "x = np.array([1,2,3,4])\n",
    "y = np.array([5,6,7,8])\n",
    "print(x)\n",
    "print(y)"
   ]
  },
  {
   "cell_type": "code",
   "execution_count": 59,
   "metadata": {},
   "outputs": [
    {
     "name": "stdout",
     "output_type": "stream",
     "text": [
      "[ 6  8 10 12]\n",
      "[ 6  8 10 12]\n",
      "\n",
      "[-4 -4 -4 -4]\n",
      "[-4 -4 -4 -4]\n",
      "\n",
      "[ 5 12 21 32]\n",
      "[ 5 12 21 32]\n",
      "\n",
      "[0.2        0.33333333 0.42857143 0.5       ]\n",
      "[0.2        0.33333333 0.42857143 0.5       ]\n"
     ]
    }
   ],
   "source": [
    "print(x+y)\n",
    "print(np.add(x, y))\n",
    "print()\n",
    "print(x - y)\n",
    "print(np.subtract(x, y))\n",
    "print()\n",
    "print(x * y)\n",
    "print(np.multiply(x, y))\n",
    "print()\n",
    "print(x / y)\n",
    "print(np.divide(x, y))"
   ]
  },
  {
   "cell_type": "code",
   "execution_count": 61,
   "metadata": {},
   "outputs": [
    {
     "name": "stdout",
     "output_type": "stream",
     "text": [
      "[[1 2]\n",
      " [3 4]]\n",
      "[[5 6]\n",
      " [7 8]]\n"
     ]
    }
   ],
   "source": [
    "# broadcasting\n",
    "x = np.array([1,2,3,4]).reshape(2,2)\n",
    "print(x)\n",
    "y = np.array([5,6,7,8]).reshape(2,2)\n",
    "print(y)"
   ]
  },
  {
   "cell_type": "code",
   "execution_count": 62,
   "metadata": {},
   "outputs": [
    {
     "name": "stdout",
     "output_type": "stream",
     "text": [
      "[[ 6  8]\n",
      " [10 12]]\n",
      "[[-4 -4]\n",
      " [-4 -4]]\n",
      "[[ 5 12]\n",
      " [21 32]]\n",
      "[[0.2        0.33333333]\n",
      " [0.42857143 0.5       ]]\n"
     ]
    }
   ],
   "source": [
    "print(x + y)\n",
    "print(x - y)\n",
    "print(x * y)\n",
    "print(x / y)"
   ]
  },
  {
   "cell_type": "code",
   "execution_count": 67,
   "metadata": {},
   "outputs": [
    {
     "name": "stdout",
     "output_type": "stream",
     "text": [
      "[[1 2]\n",
      " [3 4]]\n",
      "[[1.         1.41421356]\n",
      " [1.73205081 2.        ]]\n",
      "[[ 2.71828183  7.3890561 ]\n",
      " [20.08553692 54.59815003]]\n",
      "[[ 1  4]\n",
      " [ 9 16]]\n"
     ]
    }
   ],
   "source": [
    "print(x)\n",
    "print(np.sqrt(x))\n",
    "print(np.exp(x))\n",
    "print(np.power(x, 2))"
   ]
  },
  {
   "cell_type": "code",
   "execution_count": 71,
   "metadata": {},
   "outputs": [
    {
     "name": "stdout",
     "output_type": "stream",
     "text": [
      "2.5\n",
      "[2. 3.]\n",
      "[1.5 3.5]\n",
      "10\n",
      "[4 6]\n",
      "[3 7]\n"
     ]
    }
   ],
   "source": [
    "# statistics\n",
    "print(x.mean())\n",
    "print(x.mean(axis=0)) # mean by row\n",
    "print(x.mean(axis=1)) # mean by col\n",
    "print(x.sum())\n",
    "print(x.sum(axis=0)) # mean by row\n",
    "print(x.sum(axis=1)) # mean by col\n"
   ]
  },
  {
   "cell_type": "code",
   "execution_count": 74,
   "metadata": {},
   "outputs": [
    {
     "name": "stdout",
     "output_type": "stream",
     "text": [
      "[[1 2]\n",
      " [3 4]]\n"
     ]
    },
    {
     "data": {
      "text/plain": [
       "1.118033988749895"
      ]
     },
     "execution_count": 74,
     "metadata": {},
     "output_type": "execute_result"
    }
   ],
   "source": [
    "print(x)\n",
    "x.std()"
   ]
  },
  {
   "cell_type": "code",
   "execution_count": 75,
   "metadata": {},
   "outputs": [
    {
     "data": {
      "text/plain": [
       "2.5"
      ]
     },
     "execution_count": 75,
     "metadata": {},
     "output_type": "execute_result"
    }
   ],
   "source": [
    "np.median(x)"
   ]
  },
  {
   "cell_type": "code",
   "execution_count": 76,
   "metadata": {},
   "outputs": [
    {
     "data": {
      "text/plain": [
       "4"
      ]
     },
     "execution_count": 76,
     "metadata": {},
     "output_type": "execute_result"
    }
   ],
   "source": [
    "x.max()"
   ]
  },
  {
   "cell_type": "code",
   "execution_count": 79,
   "metadata": {},
   "outputs": [
    {
     "name": "stdout",
     "output_type": "stream",
     "text": [
      "[[1 2]\n",
      " [3 4]]\n",
      "[[4 5]\n",
      " [6 7]]\n",
      "[[-2 -1]\n",
      " [ 0  1]]\n",
      "[[ 3  6]\n",
      " [ 9 12]]\n",
      "[[0.33333333 0.66666667]\n",
      " [1.         1.33333333]]\n"
     ]
    }
   ],
   "source": [
    "print(x)\n",
    "print(3 + x)\n",
    "print(x - 3)\n",
    "print(x * 3)\n",
    "print(x / 3)"
   ]
  },
  {
   "cell_type": "code",
   "execution_count": 81,
   "metadata": {},
   "outputs": [
    {
     "name": "stdout",
     "output_type": "stream",
     "text": [
      "[[0 1 2]\n",
      " [3 4 5]\n",
      " [6 7 8]]\n",
      "\n",
      " [0 1 2]\n"
     ]
    }
   ],
   "source": [
    "y = np.arange(9).reshape(3, 3)\n",
    "print(y)\n",
    "x = np.arange(3)\n",
    "print('\\n',x)"
   ]
  },
  {
   "cell_type": "code",
   "execution_count": 82,
   "metadata": {},
   "outputs": [
    {
     "name": "stdout",
     "output_type": "stream",
     "text": [
      "[[ 0  2  4]\n",
      " [ 3  5  7]\n",
      " [ 6  8 10]]\n"
     ]
    }
   ],
   "source": [
    "print(x+y)"
   ]
  },
  {
   "cell_type": "code",
   "execution_count": 84,
   "metadata": {},
   "outputs": [
    {
     "name": "stdout",
     "output_type": "stream",
     "text": [
      "[[0]\n",
      " [1]\n",
      " [2]]\n"
     ]
    }
   ],
   "source": [
    "z = np.arange(3).reshape(3, 1)\n",
    "print(z)"
   ]
  },
  {
   "cell_type": "code",
   "execution_count": 89,
   "metadata": {},
   "outputs": [
    {
     "name": "stdout",
     "output_type": "stream",
     "text": [
      "[[0 1 2]\n",
      " [3 4 5]\n",
      " [6 7 8]]\n",
      "\n",
      "[[ 0  1  2]\n",
      " [ 4  5  6]\n",
      " [ 8  9 10]]\n"
     ]
    }
   ],
   "source": [
    "print(y)\n",
    "print()\n",
    "print(y+z)"
   ]
  },
  {
   "cell_type": "code",
   "execution_count": 92,
   "metadata": {},
   "outputs": [
    {
     "name": "stdout",
     "output_type": "stream",
     "text": [
      "[[1. 2. 3. 4.]\n",
      " [1. 2. 3. 4.]\n",
      " [1. 2. 3. 4.]\n",
      " [1. 2. 3. 4.]]\n"
     ]
    }
   ],
   "source": [
    "# Use Broadcasting to create a 4 x 4 ndarray that has its first\n",
    "# column full of 1s, its second column full of 2s, its third\n",
    "# column full of 3s, etc.. \n",
    "\n",
    "X = np.zeros((4,4), dtype=float)\n",
    "#y = np.arange(1,5)\n",
    "y = np.array([1,2,3,4])\n",
    "X += y\n",
    "print(X)"
   ]
  },
  {
   "cell_type": "code",
   "execution_count": null,
   "metadata": {},
   "outputs": [],
   "source": []
  }
 ],
 "metadata": {
  "kernelspec": {
   "display_name": "Python 3",
   "language": "python",
   "name": "python3"
  },
  "language_info": {
   "codemirror_mode": {
    "name": "ipython",
    "version": 3
   },
   "file_extension": ".py",
   "mimetype": "text/x-python",
   "name": "python",
   "nbconvert_exporter": "python",
   "pygments_lexer": "ipython3",
   "version": "3.7.3"
  }
 },
 "nbformat": 4,
 "nbformat_minor": 2
}
